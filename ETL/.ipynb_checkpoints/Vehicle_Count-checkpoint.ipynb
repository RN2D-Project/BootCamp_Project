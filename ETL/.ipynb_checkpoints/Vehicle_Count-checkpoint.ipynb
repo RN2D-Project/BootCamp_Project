{
 "cells": [
  {
   "cell_type": "code",
   "execution_count": 5,
   "metadata": {},
   "outputs": [],
   "source": [
    "import pandas as pd"
   ]
  },
  {
   "cell_type": "code",
   "execution_count": 2,
   "metadata": {},
   "outputs": [
    {
     "name": "stderr",
     "output_type": "stream",
     "text": [
      "C:\\Users\\dixie\\anaconda3\\envs\\PythonData\\lib\\site-packages\\IPython\\core\\interactiveshell.py:3147: DtypeWarning: Columns (2) have mixed types.Specify dtype option on import or set low_memory=False.\n",
      "  interactivity=interactivity, compiler=compiler, result=result)\n"
     ]
    },
    {
     "data": {
      "text/html": [
       "<div>\n",
       "<style scoped>\n",
       "    .dataframe tbody tr th:only-of-type {\n",
       "        vertical-align: middle;\n",
       "    }\n",
       "\n",
       "    .dataframe tbody tr th {\n",
       "        vertical-align: top;\n",
       "    }\n",
       "\n",
       "    .dataframe thead th {\n",
       "        text-align: right;\n",
       "    }\n",
       "</style>\n",
       "<table border=\"1\" class=\"dataframe\">\n",
       "  <thead>\n",
       "    <tr style=\"text-align: right;\">\n",
       "      <th></th>\n",
       "      <th>Date</th>\n",
       "      <th>Zip Code</th>\n",
       "      <th>Model Year</th>\n",
       "      <th>Fuel</th>\n",
       "      <th>Make</th>\n",
       "      <th>Duty</th>\n",
       "      <th>Vehicles</th>\n",
       "    </tr>\n",
       "  </thead>\n",
       "  <tbody>\n",
       "    <tr>\n",
       "      <th>0</th>\n",
       "      <td>1/1/2020</td>\n",
       "      <td>90001</td>\n",
       "      <td>2007</td>\n",
       "      <td>Gasoline</td>\n",
       "      <td>ACURA</td>\n",
       "      <td>Light</td>\n",
       "      <td>15</td>\n",
       "    </tr>\n",
       "    <tr>\n",
       "      <th>1</th>\n",
       "      <td>1/1/2020</td>\n",
       "      <td>90002</td>\n",
       "      <td>2007</td>\n",
       "      <td>Gasoline</td>\n",
       "      <td>ACURA</td>\n",
       "      <td>Light</td>\n",
       "      <td>20</td>\n",
       "    </tr>\n",
       "    <tr>\n",
       "      <th>2</th>\n",
       "      <td>1/1/2020</td>\n",
       "      <td>90003</td>\n",
       "      <td>2007</td>\n",
       "      <td>Gasoline</td>\n",
       "      <td>ACURA</td>\n",
       "      <td>Light</td>\n",
       "      <td>29</td>\n",
       "    </tr>\n",
       "    <tr>\n",
       "      <th>3</th>\n",
       "      <td>1/1/2020</td>\n",
       "      <td>90004</td>\n",
       "      <td>2007</td>\n",
       "      <td>Gasoline</td>\n",
       "      <td>ACURA</td>\n",
       "      <td>Light</td>\n",
       "      <td>19</td>\n",
       "    </tr>\n",
       "    <tr>\n",
       "      <th>4</th>\n",
       "      <td>1/1/2020</td>\n",
       "      <td>90006</td>\n",
       "      <td>2007</td>\n",
       "      <td>Gasoline</td>\n",
       "      <td>ACURA</td>\n",
       "      <td>Light</td>\n",
       "      <td>15</td>\n",
       "    </tr>\n",
       "    <tr>\n",
       "      <th>...</th>\n",
       "      <td>...</td>\n",
       "      <td>...</td>\n",
       "      <td>...</td>\n",
       "      <td>...</td>\n",
       "      <td>...</td>\n",
       "      <td>...</td>\n",
       "      <td>...</td>\n",
       "    </tr>\n",
       "    <tr>\n",
       "      <th>602389</th>\n",
       "      <td>1/1/2020</td>\n",
       "      <td>OOS</td>\n",
       "      <td>Unk</td>\n",
       "      <td>Gasoline</td>\n",
       "      <td>Unk</td>\n",
       "      <td>Heavy</td>\n",
       "      <td>98</td>\n",
       "    </tr>\n",
       "    <tr>\n",
       "      <th>602390</th>\n",
       "      <td>1/1/2020</td>\n",
       "      <td>90012</td>\n",
       "      <td>Unk</td>\n",
       "      <td>Gasoline</td>\n",
       "      <td>Unk</td>\n",
       "      <td>Light</td>\n",
       "      <td>12</td>\n",
       "    </tr>\n",
       "    <tr>\n",
       "      <th>602391</th>\n",
       "      <td>1/1/2020</td>\n",
       "      <td>93065</td>\n",
       "      <td>Unk</td>\n",
       "      <td>Gasoline</td>\n",
       "      <td>Unk</td>\n",
       "      <td>Light</td>\n",
       "      <td>11</td>\n",
       "    </tr>\n",
       "    <tr>\n",
       "      <th>602392</th>\n",
       "      <td>1/1/2020</td>\n",
       "      <td>95762</td>\n",
       "      <td>Unk</td>\n",
       "      <td>Gasoline</td>\n",
       "      <td>Unk</td>\n",
       "      <td>Light</td>\n",
       "      <td>12</td>\n",
       "    </tr>\n",
       "    <tr>\n",
       "      <th>602393</th>\n",
       "      <td>1/1/2020</td>\n",
       "      <td>OOS</td>\n",
       "      <td>Unk</td>\n",
       "      <td>Gasoline</td>\n",
       "      <td>Unk</td>\n",
       "      <td>Light</td>\n",
       "      <td>52</td>\n",
       "    </tr>\n",
       "  </tbody>\n",
       "</table>\n",
       "<p>602394 rows × 7 columns</p>\n",
       "</div>"
      ],
      "text/plain": [
       "            Date Zip Code Model Year      Fuel   Make   Duty  Vehicles\n",
       "0       1/1/2020    90001       2007  Gasoline  ACURA  Light        15\n",
       "1       1/1/2020    90002       2007  Gasoline  ACURA  Light        20\n",
       "2       1/1/2020    90003       2007  Gasoline  ACURA  Light        29\n",
       "3       1/1/2020    90004       2007  Gasoline  ACURA  Light        19\n",
       "4       1/1/2020    90006       2007  Gasoline  ACURA  Light        15\n",
       "...          ...      ...        ...       ...    ...    ...       ...\n",
       "602389  1/1/2020      OOS        Unk  Gasoline    Unk  Heavy        98\n",
       "602390  1/1/2020    90012        Unk  Gasoline    Unk  Light        12\n",
       "602391  1/1/2020    93065        Unk  Gasoline    Unk  Light        11\n",
       "602392  1/1/2020    95762        Unk  Gasoline    Unk  Light        12\n",
       "602393  1/1/2020      OOS        Unk  Gasoline    Unk  Light        52\n",
       "\n",
       "[602394 rows x 7 columns]"
      ]
     },
     "execution_count": 2,
     "metadata": {},
     "output_type": "execute_result"
    }
   ],
   "source": [
    "# load Vehicle_Count Dataset\n",
    "reading_df = pd.read_csv(\"../Resources/vehicle-count-as-of-1-1-2020.csv\")\n",
    "reading_df"
   ]
  },
  {
   "cell_type": "code",
   "execution_count": 6,
   "metadata": {},
   "outputs": [
    {
     "data": {
      "text/plain": [
       "Index(['Date', 'Zip Code', 'Model Year', 'Fuel', 'Make', 'Duty', 'Vehicles'], dtype='object')"
      ]
     },
     "execution_count": 6,
     "metadata": {},
     "output_type": "execute_result"
    }
   ],
   "source": [
    "# Columns\n",
    "reading_df.columns"
   ]
  },
  {
   "cell_type": "code",
   "execution_count": 7,
   "metadata": {},
   "outputs": [
    {
     "data": {
      "text/plain": [
       "Date          object\n",
       "Zip Code      object\n",
       "Model Year    object\n",
       "Fuel          object\n",
       "Make          object\n",
       "Duty          object\n",
       "Vehicles       int64\n",
       "dtype: object"
      ]
     },
     "execution_count": 7,
     "metadata": {},
     "output_type": "execute_result"
    }
   ],
   "source": [
    "# list dataframe data types\n",
    "reading_df.dtypes"
   ]
  },
  {
   "cell_type": "code",
   "execution_count": null,
   "metadata": {},
   "outputs": [],
   "source": []
  }
 ],
 "metadata": {
  "kernelspec": {
   "display_name": "PythonData",
   "language": "python",
   "name": "pythondata"
  },
  "language_info": {
   "codemirror_mode": {
    "name": "ipython",
    "version": 3
   },
   "file_extension": ".py",
   "mimetype": "text/x-python",
   "name": "python",
   "nbconvert_exporter": "python",
   "pygments_lexer": "ipython3",
   "version": "3.7.9"
  }
 },
 "nbformat": 4,
 "nbformat_minor": 4
}
