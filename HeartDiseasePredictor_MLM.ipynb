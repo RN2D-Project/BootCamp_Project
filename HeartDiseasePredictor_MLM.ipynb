{
 "cells": [
  {
   "cell_type": "code",
   "execution_count": 1,
   "metadata": {},
   "outputs": [],
   "source": [
    "# Importing dependencies\n",
    "import pandas as pd\n",
    "import numpy as np\n",
    "from pathlib import Path\n",
    "import matplotlib.pyplot as plt\n",
    "import seaborn as sns\n",
    "from sklearn.linear_model import LogisticRegression"
   ]
  },
  {
   "cell_type": "code",
   "execution_count": 2,
   "metadata": {},
   "outputs": [
    {
     "data": {
      "text/html": [
       "<div>\n",
       "<style scoped>\n",
       "    .dataframe tbody tr th:only-of-type {\n",
       "        vertical-align: middle;\n",
       "    }\n",
       "\n",
       "    .dataframe tbody tr th {\n",
       "        vertical-align: top;\n",
       "    }\n",
       "\n",
       "    .dataframe thead th {\n",
       "        text-align: right;\n",
       "    }\n",
       "</style>\n",
       "<table border=\"1\" class=\"dataframe\">\n",
       "  <thead>\n",
       "    <tr style=\"text-align: right;\">\n",
       "      <th></th>\n",
       "      <th>patient_female_id</th>\n",
       "      <th>age</th>\n",
       "      <th>education</th>\n",
       "      <th>current_smoker</th>\n",
       "      <th>cigs_per_day</th>\n",
       "      <th>bp_meds</th>\n",
       "      <th>prevalent_stroke</th>\n",
       "      <th>prevalent_hyp</th>\n",
       "      <th>diabetes</th>\n",
       "      <th>tot_chol</th>\n",
       "      <th>sys_bp</th>\n",
       "      <th>dia_bp</th>\n",
       "      <th>bmi</th>\n",
       "      <th>heart_rate</th>\n",
       "      <th>glucose</th>\n",
       "      <th>ten_year_chd</th>\n",
       "    </tr>\n",
       "  </thead>\n",
       "  <tbody>\n",
       "    <tr>\n",
       "      <th>0</th>\n",
       "      <td>0</td>\n",
       "      <td>46</td>\n",
       "      <td>2.0</td>\n",
       "      <td>0</td>\n",
       "      <td>0.0</td>\n",
       "      <td>0.0</td>\n",
       "      <td>0</td>\n",
       "      <td>0</td>\n",
       "      <td>0</td>\n",
       "      <td>250.0</td>\n",
       "      <td>121.0</td>\n",
       "      <td>81.0</td>\n",
       "      <td>28.73</td>\n",
       "      <td>95.0</td>\n",
       "      <td>76.0</td>\n",
       "      <td>0</td>\n",
       "    </tr>\n",
       "    <tr>\n",
       "      <th>1</th>\n",
       "      <td>1</td>\n",
       "      <td>61</td>\n",
       "      <td>3.0</td>\n",
       "      <td>1</td>\n",
       "      <td>30.0</td>\n",
       "      <td>0.0</td>\n",
       "      <td>0</td>\n",
       "      <td>1</td>\n",
       "      <td>0</td>\n",
       "      <td>225.0</td>\n",
       "      <td>150.0</td>\n",
       "      <td>95.0</td>\n",
       "      <td>28.58</td>\n",
       "      <td>65.0</td>\n",
       "      <td>103.0</td>\n",
       "      <td>1</td>\n",
       "    </tr>\n",
       "    <tr>\n",
       "      <th>2</th>\n",
       "      <td>2</td>\n",
       "      <td>46</td>\n",
       "      <td>3.0</td>\n",
       "      <td>1</td>\n",
       "      <td>23.0</td>\n",
       "      <td>0.0</td>\n",
       "      <td>0</td>\n",
       "      <td>0</td>\n",
       "      <td>0</td>\n",
       "      <td>285.0</td>\n",
       "      <td>130.0</td>\n",
       "      <td>84.0</td>\n",
       "      <td>23.10</td>\n",
       "      <td>85.0</td>\n",
       "      <td>85.0</td>\n",
       "      <td>0</td>\n",
       "    </tr>\n",
       "    <tr>\n",
       "      <th>3</th>\n",
       "      <td>3</td>\n",
       "      <td>43</td>\n",
       "      <td>2.0</td>\n",
       "      <td>0</td>\n",
       "      <td>0.0</td>\n",
       "      <td>0.0</td>\n",
       "      <td>0</td>\n",
       "      <td>1</td>\n",
       "      <td>0</td>\n",
       "      <td>228.0</td>\n",
       "      <td>180.0</td>\n",
       "      <td>110.0</td>\n",
       "      <td>30.30</td>\n",
       "      <td>77.0</td>\n",
       "      <td>99.0</td>\n",
       "      <td>0</td>\n",
       "    </tr>\n",
       "    <tr>\n",
       "      <th>4</th>\n",
       "      <td>4</td>\n",
       "      <td>63</td>\n",
       "      <td>1.0</td>\n",
       "      <td>0</td>\n",
       "      <td>0.0</td>\n",
       "      <td>0.0</td>\n",
       "      <td>0</td>\n",
       "      <td>0</td>\n",
       "      <td>0</td>\n",
       "      <td>205.0</td>\n",
       "      <td>138.0</td>\n",
       "      <td>71.0</td>\n",
       "      <td>33.11</td>\n",
       "      <td>60.0</td>\n",
       "      <td>85.0</td>\n",
       "      <td>1</td>\n",
       "    </tr>\n",
       "  </tbody>\n",
       "</table>\n",
       "</div>"
      ],
      "text/plain": [
       "   patient_female_id  age  education  current_smoker  cigs_per_day  bp_meds  \\\n",
       "0                  0   46        2.0               0           0.0      0.0   \n",
       "1                  1   61        3.0               1          30.0      0.0   \n",
       "2                  2   46        3.0               1          23.0      0.0   \n",
       "3                  3   43        2.0               0           0.0      0.0   \n",
       "4                  4   63        1.0               0           0.0      0.0   \n",
       "\n",
       "   prevalent_stroke  prevalent_hyp  diabetes  tot_chol  sys_bp  dia_bp    bmi  \\\n",
       "0                 0              0         0     250.0   121.0    81.0  28.73   \n",
       "1                 0              1         0     225.0   150.0    95.0  28.58   \n",
       "2                 0              0         0     285.0   130.0    84.0  23.10   \n",
       "3                 0              1         0     228.0   180.0   110.0  30.30   \n",
       "4                 0              0         0     205.0   138.0    71.0  33.11   \n",
       "\n",
       "   heart_rate  glucose  ten_year_chd  \n",
       "0        95.0     76.0             0  \n",
       "1        65.0    103.0             1  \n",
       "2        85.0     85.0             0  \n",
       "3        77.0     99.0             0  \n",
       "4        60.0     85.0             1  "
      ]
     },
     "execution_count": 2,
     "metadata": {},
     "output_type": "execute_result"
    }
   ],
   "source": [
    "# Reading the cleaned dataset extracted from the database\n",
    "chd_df = pd.read_csv(Path('ETL/heart_disease_females.csv'))\n",
    "chd_df.head()"
   ]
  },
  {
   "cell_type": "markdown",
   "metadata": {},
   "source": [
    "# Exploratory Data Analysis"
   ]
  },
  {
   "cell_type": "code",
   "execution_count": 3,
   "metadata": {},
   "outputs": [
    {
     "data": {
      "text/plain": [
       "(2034, 16)"
      ]
     },
     "execution_count": 3,
     "metadata": {},
     "output_type": "execute_result"
    }
   ],
   "source": [
    "# Getting the number of rows and columns\n",
    "chd_df.shape"
   ]
  },
  {
   "cell_type": "code",
   "execution_count": 4,
   "metadata": {},
   "outputs": [
    {
     "data": {
      "text/plain": [
       "Index(['patient_female_id', 'age', 'education', 'current_smoker',\n",
       "       'cigs_per_day', 'bp_meds', 'prevalent_stroke', 'prevalent_hyp',\n",
       "       'diabetes', 'tot_chol', 'sys_bp', 'dia_bp', 'bmi', 'heart_rate',\n",
       "       'glucose', 'ten_year_chd'],\n",
       "      dtype='object')"
      ]
     },
     "execution_count": 4,
     "metadata": {},
     "output_type": "execute_result"
    }
   ],
   "source": [
    "# Listing the columns\n",
    "chd_df.columns"
   ]
  },
  {
   "cell_type": "code",
   "execution_count": 6,
   "metadata": {},
   "outputs": [
    {
     "data": {
      "text/plain": [
       "patient_female_id      int64\n",
       "age                    int64\n",
       "education            float64\n",
       "current_smoker         int64\n",
       "cigs_per_day         float64\n",
       "bp_meds              float64\n",
       "prevalent_stroke       int64\n",
       "prevalent_hyp          int64\n",
       "diabetes               int64\n",
       "tot_chol             float64\n",
       "sys_bp               float64\n",
       "dia_bp               float64\n",
       "bmi                  float64\n",
       "heart_rate           float64\n",
       "glucose              float64\n",
       "ten_year_chd           int64\n",
       "dtype: object"
      ]
     },
     "execution_count": 6,
     "metadata": {},
     "output_type": "execute_result"
    }
   ],
   "source": [
    "# Check the Datatypes\n",
    "chd_df.dtypes"
   ]
  },
  {
   "cell_type": "code",
   "execution_count": 7,
   "metadata": {},
   "outputs": [
    {
     "data": {
      "text/plain": [
       "patient_female_id    2034\n",
       "age                    39\n",
       "education               4\n",
       "current_smoker          2\n",
       "cigs_per_day           25\n",
       "bp_meds                 2\n",
       "prevalent_stroke        2\n",
       "prevalent_hyp           2\n",
       "diabetes                2\n",
       "tot_chol              223\n",
       "sys_bp                220\n",
       "dia_bp                131\n",
       "bmi                   986\n",
       "heart_rate             67\n",
       "glucose               111\n",
       "ten_year_chd            2\n",
       "dtype: int64"
      ]
     },
     "execution_count": 7,
     "metadata": {},
     "output_type": "execute_result"
    }
   ],
   "source": [
    "#Finding the number of unique values in each column\n",
    "chd_df.nunique()"
   ]
  },
  {
   "cell_type": "code",
   "execution_count": 12,
   "metadata": {},
   "outputs": [
    {
     "name": "stdout",
     "output_type": "stream",
     "text": [
      "1.0    815\n",
      "2.0    650\n",
      "3.0    397\n",
      "4.0    172\n",
      "Name: education, dtype: int64\n",
      "0    1227\n",
      "1     807\n",
      "Name: current_smoker, dtype: int64\n",
      "0.0    1956\n",
      "1.0      78\n",
      "Name: bp_meds, dtype: int64\n",
      "0    2022\n",
      "1      12\n",
      "Name: prevalent_stroke, dtype: int64\n",
      "0    1401\n",
      "1     633\n",
      "Name: prevalent_hyp, dtype: int64\n",
      "0    1983\n",
      "1      51\n",
      "Name: diabetes, dtype: int64\n",
      "0    1784\n",
      "1     250\n",
      "Name: ten_year_chd, dtype: int64\n"
     ]
    }
   ],
   "source": [
    "# Getting the count of values in different columns\n",
    "print(chd_df[\"education\"].value_counts())\n",
    "print(chd_df[\"current_smoker\"].value_counts())\n",
    "print(chd_df[\"bp_meds\"].value_counts())\n",
    "print(chd_df[\"prevalent_stroke\"].value_counts())\n",
    "print(chd_df[\"prevalent_hyp\"].value_counts())\n",
    "print(chd_df[\"diabetes\"].value_counts())\n",
    "print(chd_df[\"ten_year_chd\"].value_counts())"
   ]
  },
  {
   "cell_type": "code",
   "execution_count": null,
   "metadata": {},
   "outputs": [],
   "source": []
  }
 ],
 "metadata": {
  "kernelspec": {
   "display_name": "mlenv",
   "language": "python",
   "name": "mlenv"
  },
  "language_info": {
   "codemirror_mode": {
    "name": "ipython",
    "version": 3
   },
   "file_extension": ".py",
   "mimetype": "text/x-python",
   "name": "python",
   "nbconvert_exporter": "python",
   "pygments_lexer": "ipython3",
   "version": "3.7.10"
  }
 },
 "nbformat": 4,
 "nbformat_minor": 4
}
