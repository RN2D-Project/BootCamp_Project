{
 "cells": [
  {
   "cell_type": "code",
   "execution_count": 1,
   "metadata": {},
   "outputs": [],
   "source": [
    "# Importing dependencies\n",
    "import pandas as pd\n",
    "import numpy as np\n",
    "from pathlib import Path\n",
    "import matplotlib.pyplot as plt\n",
    "import seaborn as sns\n",
    "from sklearn.feature_selection import SelectKBest\n",
    "from sklearn.feature_selection import chi2\n",
    "from sklearn.feature_selection import f_classif\n",
    "from sklearn.feature_selection import mutual_info_classif"
   ]
  },
  {
   "cell_type": "code",
   "execution_count": 2,
   "metadata": {},
   "outputs": [
    {
     "data": {
      "text/html": [
       "<div>\n",
       "<style scoped>\n",
       "    .dataframe tbody tr th:only-of-type {\n",
       "        vertical-align: middle;\n",
       "    }\n",
       "\n",
       "    .dataframe tbody tr th {\n",
       "        vertical-align: top;\n",
       "    }\n",
       "\n",
       "    .dataframe thead th {\n",
       "        text-align: right;\n",
       "    }\n",
       "</style>\n",
       "<table border=\"1\" class=\"dataframe\">\n",
       "  <thead>\n",
       "    <tr style=\"text-align: right;\">\n",
       "      <th></th>\n",
       "      <th>patient_female_id</th>\n",
       "      <th>age</th>\n",
       "      <th>education</th>\n",
       "      <th>current_smoker</th>\n",
       "      <th>cigs_per_day</th>\n",
       "      <th>bp_meds</th>\n",
       "      <th>prevalent_stroke</th>\n",
       "      <th>prevalent_hyp</th>\n",
       "      <th>diabetes</th>\n",
       "      <th>tot_chol</th>\n",
       "      <th>sys_bp</th>\n",
       "      <th>dia_bp</th>\n",
       "      <th>bmi</th>\n",
       "      <th>heart_rate</th>\n",
       "      <th>glucose</th>\n",
       "      <th>ten_year_chd</th>\n",
       "    </tr>\n",
       "  </thead>\n",
       "  <tbody>\n",
       "    <tr>\n",
       "      <th>0</th>\n",
       "      <td>0</td>\n",
       "      <td>46</td>\n",
       "      <td>2.0</td>\n",
       "      <td>0</td>\n",
       "      <td>0.0</td>\n",
       "      <td>0.0</td>\n",
       "      <td>0</td>\n",
       "      <td>0</td>\n",
       "      <td>0</td>\n",
       "      <td>250.0</td>\n",
       "      <td>121.0</td>\n",
       "      <td>81.0</td>\n",
       "      <td>28.73</td>\n",
       "      <td>95.0</td>\n",
       "      <td>76.0</td>\n",
       "      <td>0</td>\n",
       "    </tr>\n",
       "    <tr>\n",
       "      <th>1</th>\n",
       "      <td>1</td>\n",
       "      <td>61</td>\n",
       "      <td>3.0</td>\n",
       "      <td>1</td>\n",
       "      <td>30.0</td>\n",
       "      <td>0.0</td>\n",
       "      <td>0</td>\n",
       "      <td>1</td>\n",
       "      <td>0</td>\n",
       "      <td>225.0</td>\n",
       "      <td>150.0</td>\n",
       "      <td>95.0</td>\n",
       "      <td>28.58</td>\n",
       "      <td>65.0</td>\n",
       "      <td>103.0</td>\n",
       "      <td>1</td>\n",
       "    </tr>\n",
       "    <tr>\n",
       "      <th>2</th>\n",
       "      <td>2</td>\n",
       "      <td>46</td>\n",
       "      <td>3.0</td>\n",
       "      <td>1</td>\n",
       "      <td>23.0</td>\n",
       "      <td>0.0</td>\n",
       "      <td>0</td>\n",
       "      <td>0</td>\n",
       "      <td>0</td>\n",
       "      <td>285.0</td>\n",
       "      <td>130.0</td>\n",
       "      <td>84.0</td>\n",
       "      <td>23.10</td>\n",
       "      <td>85.0</td>\n",
       "      <td>85.0</td>\n",
       "      <td>0</td>\n",
       "    </tr>\n",
       "    <tr>\n",
       "      <th>3</th>\n",
       "      <td>3</td>\n",
       "      <td>43</td>\n",
       "      <td>2.0</td>\n",
       "      <td>0</td>\n",
       "      <td>0.0</td>\n",
       "      <td>0.0</td>\n",
       "      <td>0</td>\n",
       "      <td>1</td>\n",
       "      <td>0</td>\n",
       "      <td>228.0</td>\n",
       "      <td>180.0</td>\n",
       "      <td>110.0</td>\n",
       "      <td>30.30</td>\n",
       "      <td>77.0</td>\n",
       "      <td>99.0</td>\n",
       "      <td>0</td>\n",
       "    </tr>\n",
       "    <tr>\n",
       "      <th>4</th>\n",
       "      <td>4</td>\n",
       "      <td>63</td>\n",
       "      <td>1.0</td>\n",
       "      <td>0</td>\n",
       "      <td>0.0</td>\n",
       "      <td>0.0</td>\n",
       "      <td>0</td>\n",
       "      <td>0</td>\n",
       "      <td>0</td>\n",
       "      <td>205.0</td>\n",
       "      <td>138.0</td>\n",
       "      <td>71.0</td>\n",
       "      <td>33.11</td>\n",
       "      <td>60.0</td>\n",
       "      <td>85.0</td>\n",
       "      <td>1</td>\n",
       "    </tr>\n",
       "  </tbody>\n",
       "</table>\n",
       "</div>"
      ],
      "text/plain": [
       "   patient_female_id  age  education  current_smoker  cigs_per_day  bp_meds  \\\n",
       "0                  0   46        2.0               0           0.0      0.0   \n",
       "1                  1   61        3.0               1          30.0      0.0   \n",
       "2                  2   46        3.0               1          23.0      0.0   \n",
       "3                  3   43        2.0               0           0.0      0.0   \n",
       "4                  4   63        1.0               0           0.0      0.0   \n",
       "\n",
       "   prevalent_stroke  prevalent_hyp  diabetes  tot_chol  sys_bp  dia_bp    bmi  \\\n",
       "0                 0              0         0     250.0   121.0    81.0  28.73   \n",
       "1                 0              1         0     225.0   150.0    95.0  28.58   \n",
       "2                 0              0         0     285.0   130.0    84.0  23.10   \n",
       "3                 0              1         0     228.0   180.0   110.0  30.30   \n",
       "4                 0              0         0     205.0   138.0    71.0  33.11   \n",
       "\n",
       "   heart_rate  glucose  ten_year_chd  \n",
       "0        95.0     76.0             0  \n",
       "1        65.0    103.0             1  \n",
       "2        85.0     85.0             0  \n",
       "3        77.0     99.0             0  \n",
       "4        60.0     85.0             1  "
      ]
     },
     "execution_count": 2,
     "metadata": {},
     "output_type": "execute_result"
    }
   ],
   "source": [
    "# Reading the cleaned dataset extracted from the database\n",
    "chd_df = pd.read_csv(Path('ETL/heart_disease_females.csv'))\n",
    "chd_df.head()"
   ]
  },
  {
   "cell_type": "markdown",
   "metadata": {},
   "source": [
    "# Exploratory Data Analysis"
   ]
  },
  {
   "cell_type": "markdown",
   "metadata": {},
   "source": [
    "# Data Cleaning"
   ]
  },
  {
   "cell_type": "code",
   "execution_count": 3,
   "metadata": {},
   "outputs": [
    {
     "data": {
      "text/plain": [
       "(2034, 16)"
      ]
     },
     "execution_count": 3,
     "metadata": {},
     "output_type": "execute_result"
    }
   ],
   "source": [
    "# Getting the number of rows and columns\n",
    "chd_df.shape"
   ]
  },
  {
   "cell_type": "code",
   "execution_count": 4,
   "metadata": {},
   "outputs": [
    {
     "data": {
      "text/plain": [
       "Index(['patient_female_id', 'age', 'education', 'current_smoker',\n",
       "       'cigs_per_day', 'bp_meds', 'prevalent_stroke', 'prevalent_hyp',\n",
       "       'diabetes', 'tot_chol', 'sys_bp', 'dia_bp', 'bmi', 'heart_rate',\n",
       "       'glucose', 'ten_year_chd'],\n",
       "      dtype='object')"
      ]
     },
     "execution_count": 4,
     "metadata": {},
     "output_type": "execute_result"
    }
   ],
   "source": [
    "# Listing the columns\n",
    "chd_df.columns"
   ]
  },
  {
   "cell_type": "code",
   "execution_count": 5,
   "metadata": {},
   "outputs": [
    {
     "data": {
      "text/plain": [
       "patient_female_id      int64\n",
       "age                    int64\n",
       "education            float64\n",
       "current_smoker         int64\n",
       "cigs_per_day         float64\n",
       "bp_meds              float64\n",
       "prevalent_stroke       int64\n",
       "prevalent_hyp          int64\n",
       "diabetes               int64\n",
       "tot_chol             float64\n",
       "sys_bp               float64\n",
       "dia_bp               float64\n",
       "bmi                  float64\n",
       "heart_rate           float64\n",
       "glucose              float64\n",
       "ten_year_chd           int64\n",
       "dtype: object"
      ]
     },
     "execution_count": 5,
     "metadata": {},
     "output_type": "execute_result"
    }
   ],
   "source": [
    "# Check the Datatypes\n",
    "chd_df.dtypes"
   ]
  },
  {
   "cell_type": "code",
   "execution_count": 6,
   "metadata": {},
   "outputs": [
    {
     "data": {
      "text/plain": [
       "patient_female_id    2034\n",
       "age                    39\n",
       "education               4\n",
       "current_smoker          2\n",
       "cigs_per_day           25\n",
       "bp_meds                 2\n",
       "prevalent_stroke        2\n",
       "prevalent_hyp           2\n",
       "diabetes                2\n",
       "tot_chol              223\n",
       "sys_bp                220\n",
       "dia_bp                131\n",
       "bmi                   986\n",
       "heart_rate             67\n",
       "glucose               111\n",
       "ten_year_chd            2\n",
       "dtype: int64"
      ]
     },
     "execution_count": 6,
     "metadata": {},
     "output_type": "execute_result"
    }
   ],
   "source": [
    "#Finding the number of unique values in each column\n",
    "chd_df.nunique()"
   ]
  },
  {
   "cell_type": "code",
   "execution_count": 7,
   "metadata": {},
   "outputs": [
    {
     "name": "stdout",
     "output_type": "stream",
     "text": [
      "1.0    815\n",
      "2.0    650\n",
      "3.0    397\n",
      "4.0    172\n",
      "Name: education, dtype: int64\n",
      "0    1227\n",
      "1     807\n",
      "Name: current_smoker, dtype: int64\n",
      "0.0    1956\n",
      "1.0      78\n",
      "Name: bp_meds, dtype: int64\n",
      "0    2022\n",
      "1      12\n",
      "Name: prevalent_stroke, dtype: int64\n",
      "0    1401\n",
      "1     633\n",
      "Name: prevalent_hyp, dtype: int64\n",
      "0    1983\n",
      "1      51\n",
      "Name: diabetes, dtype: int64\n",
      "0    1784\n",
      "1     250\n",
      "Name: ten_year_chd, dtype: int64\n"
     ]
    }
   ],
   "source": [
    "# Getting the count of values in different columns\n",
    "print(chd_df[\"education\"].value_counts())\n",
    "print(chd_df[\"current_smoker\"].value_counts())\n",
    "print(chd_df[\"bp_meds\"].value_counts())\n",
    "print(chd_df[\"prevalent_stroke\"].value_counts())\n",
    "print(chd_df[\"prevalent_hyp\"].value_counts())\n",
    "print(chd_df[\"diabetes\"].value_counts())\n",
    "print(chd_df[\"ten_year_chd\"].value_counts())"
   ]
  },
  {
   "cell_type": "code",
   "execution_count": 8,
   "metadata": {},
   "outputs": [
    {
     "name": "stdout",
     "output_type": "stream",
     "text": [
      "Duplicate Rows :\n"
     ]
    },
    {
     "data": {
      "text/html": [
       "<div>\n",
       "<style scoped>\n",
       "    .dataframe tbody tr th:only-of-type {\n",
       "        vertical-align: middle;\n",
       "    }\n",
       "\n",
       "    .dataframe tbody tr th {\n",
       "        vertical-align: top;\n",
       "    }\n",
       "\n",
       "    .dataframe thead th {\n",
       "        text-align: right;\n",
       "    }\n",
       "</style>\n",
       "<table border=\"1\" class=\"dataframe\">\n",
       "  <thead>\n",
       "    <tr style=\"text-align: right;\">\n",
       "      <th></th>\n",
       "      <th>patient_female_id</th>\n",
       "      <th>age</th>\n",
       "      <th>education</th>\n",
       "      <th>current_smoker</th>\n",
       "      <th>cigs_per_day</th>\n",
       "      <th>bp_meds</th>\n",
       "      <th>prevalent_stroke</th>\n",
       "      <th>prevalent_hyp</th>\n",
       "      <th>diabetes</th>\n",
       "      <th>tot_chol</th>\n",
       "      <th>sys_bp</th>\n",
       "      <th>dia_bp</th>\n",
       "      <th>bmi</th>\n",
       "      <th>heart_rate</th>\n",
       "      <th>glucose</th>\n",
       "      <th>ten_year_chd</th>\n",
       "    </tr>\n",
       "  </thead>\n",
       "  <tbody>\n",
       "  </tbody>\n",
       "</table>\n",
       "</div>"
      ],
      "text/plain": [
       "Empty DataFrame\n",
       "Columns: [patient_female_id, age, education, current_smoker, cigs_per_day, bp_meds, prevalent_stroke, prevalent_hyp, diabetes, tot_chol, sys_bp, dia_bp, bmi, heart_rate, glucose, ten_year_chd]\n",
       "Index: []"
      ]
     },
     "execution_count": 8,
     "metadata": {},
     "output_type": "execute_result"
    }
   ],
   "source": [
    "#Finding Duplicates\n",
    "# Code reference: https://www.geeksforgeeks.org/find-duplicate-rows-in-a-dataframe-based-on-all-or-selected-columns/\n",
    "duplicate = chd_df[chd_df.duplicated()]\n",
    "print(\"Duplicate Rows :\")\n",
    "duplicate"
   ]
  },
  {
   "cell_type": "code",
   "execution_count": 9,
   "metadata": {},
   "outputs": [
    {
     "data": {
      "text/plain": [
       "patient_female_id    0\n",
       "age                  0\n",
       "education            0\n",
       "current_smoker       0\n",
       "cigs_per_day         0\n",
       "bp_meds              0\n",
       "prevalent_stroke     0\n",
       "prevalent_hyp        0\n",
       "diabetes             0\n",
       "tot_chol             0\n",
       "sys_bp               0\n",
       "dia_bp               0\n",
       "bmi                  0\n",
       "heart_rate           0\n",
       "glucose              0\n",
       "ten_year_chd         0\n",
       "dtype: int64"
      ]
     },
     "execution_count": 9,
     "metadata": {},
     "output_type": "execute_result"
    }
   ],
   "source": [
    "# Finding Null Values\n",
    "chd_df.isnull().sum()"
   ]
  },
  {
   "cell_type": "code",
   "execution_count": 10,
   "metadata": {},
   "outputs": [
    {
     "data": {
      "text/html": [
       "<div>\n",
       "<style scoped>\n",
       "    .dataframe tbody tr th:only-of-type {\n",
       "        vertical-align: middle;\n",
       "    }\n",
       "\n",
       "    .dataframe tbody tr th {\n",
       "        vertical-align: top;\n",
       "    }\n",
       "\n",
       "    .dataframe thead th {\n",
       "        text-align: right;\n",
       "    }\n",
       "</style>\n",
       "<table border=\"1\" class=\"dataframe\">\n",
       "  <thead>\n",
       "    <tr style=\"text-align: right;\">\n",
       "      <th></th>\n",
       "      <th>patient_female_id</th>\n",
       "      <th>age</th>\n",
       "      <th>education</th>\n",
       "      <th>current_smoker</th>\n",
       "      <th>cigs_per_day</th>\n",
       "      <th>bp_meds</th>\n",
       "      <th>prevalent_stroke</th>\n",
       "      <th>prevalent_hyp</th>\n",
       "      <th>diabetes</th>\n",
       "      <th>tot_chol</th>\n",
       "      <th>sys_bp</th>\n",
       "      <th>dia_bp</th>\n",
       "      <th>bmi</th>\n",
       "      <th>heart_rate</th>\n",
       "      <th>glucose</th>\n",
       "      <th>ten_year_chd</th>\n",
       "    </tr>\n",
       "  </thead>\n",
       "  <tbody>\n",
       "    <tr>\n",
       "      <th>count</th>\n",
       "      <td>2034.000000</td>\n",
       "      <td>2034.000000</td>\n",
       "      <td>2034.000000</td>\n",
       "      <td>2034.000000</td>\n",
       "      <td>2034.000000</td>\n",
       "      <td>2034.000000</td>\n",
       "      <td>2034.000000</td>\n",
       "      <td>2034.000000</td>\n",
       "      <td>2034.000000</td>\n",
       "      <td>2034.000000</td>\n",
       "      <td>2034.000000</td>\n",
       "      <td>2034.000000</td>\n",
       "      <td>2034.000000</td>\n",
       "      <td>2034.000000</td>\n",
       "      <td>2034.000000</td>\n",
       "      <td>2034.000000</td>\n",
       "    </tr>\n",
       "    <tr>\n",
       "      <th>mean</th>\n",
       "      <td>1016.500000</td>\n",
       "      <td>49.743854</td>\n",
       "      <td>1.963618</td>\n",
       "      <td>0.396755</td>\n",
       "      <td>5.497050</td>\n",
       "      <td>0.038348</td>\n",
       "      <td>0.005900</td>\n",
       "      <td>0.311209</td>\n",
       "      <td>0.025074</td>\n",
       "      <td>239.638151</td>\n",
       "      <td>133.265241</td>\n",
       "      <td>82.360619</td>\n",
       "      <td>25.519651</td>\n",
       "      <td>76.960177</td>\n",
       "      <td>81.791052</td>\n",
       "      <td>0.122911</td>\n",
       "    </tr>\n",
       "    <tr>\n",
       "      <th>std</th>\n",
       "      <td>587.309544</td>\n",
       "      <td>8.573273</td>\n",
       "      <td>0.966051</td>\n",
       "      <td>0.489345</td>\n",
       "      <td>8.739338</td>\n",
       "      <td>0.192082</td>\n",
       "      <td>0.076601</td>\n",
       "      <td>0.463102</td>\n",
       "      <td>0.156388</td>\n",
       "      <td>46.168321</td>\n",
       "      <td>23.986809</td>\n",
       "      <td>12.308748</td>\n",
       "      <td>4.516267</td>\n",
       "      <td>12.122018</td>\n",
       "      <td>23.586245</td>\n",
       "      <td>0.328415</td>\n",
       "    </tr>\n",
       "    <tr>\n",
       "      <th>min</th>\n",
       "      <td>0.000000</td>\n",
       "      <td>32.000000</td>\n",
       "      <td>1.000000</td>\n",
       "      <td>0.000000</td>\n",
       "      <td>0.000000</td>\n",
       "      <td>0.000000</td>\n",
       "      <td>0.000000</td>\n",
       "      <td>0.000000</td>\n",
       "      <td>0.000000</td>\n",
       "      <td>135.000000</td>\n",
       "      <td>83.500000</td>\n",
       "      <td>51.000000</td>\n",
       "      <td>15.960000</td>\n",
       "      <td>46.000000</td>\n",
       "      <td>40.000000</td>\n",
       "      <td>0.000000</td>\n",
       "    </tr>\n",
       "    <tr>\n",
       "      <th>25%</th>\n",
       "      <td>508.250000</td>\n",
       "      <td>42.000000</td>\n",
       "      <td>1.000000</td>\n",
       "      <td>0.000000</td>\n",
       "      <td>0.000000</td>\n",
       "      <td>0.000000</td>\n",
       "      <td>0.000000</td>\n",
       "      <td>0.000000</td>\n",
       "      <td>0.000000</td>\n",
       "      <td>206.000000</td>\n",
       "      <td>116.000000</td>\n",
       "      <td>74.000000</td>\n",
       "      <td>22.540000</td>\n",
       "      <td>69.000000</td>\n",
       "      <td>72.000000</td>\n",
       "      <td>0.000000</td>\n",
       "    </tr>\n",
       "    <tr>\n",
       "      <th>50%</th>\n",
       "      <td>1016.500000</td>\n",
       "      <td>49.000000</td>\n",
       "      <td>2.000000</td>\n",
       "      <td>0.000000</td>\n",
       "      <td>0.000000</td>\n",
       "      <td>0.000000</td>\n",
       "      <td>0.000000</td>\n",
       "      <td>0.000000</td>\n",
       "      <td>0.000000</td>\n",
       "      <td>237.000000</td>\n",
       "      <td>128.000000</td>\n",
       "      <td>81.000000</td>\n",
       "      <td>24.720000</td>\n",
       "      <td>75.000000</td>\n",
       "      <td>78.000000</td>\n",
       "      <td>0.000000</td>\n",
       "    </tr>\n",
       "    <tr>\n",
       "      <th>75%</th>\n",
       "      <td>1524.750000</td>\n",
       "      <td>56.000000</td>\n",
       "      <td>3.000000</td>\n",
       "      <td>1.000000</td>\n",
       "      <td>10.000000</td>\n",
       "      <td>0.000000</td>\n",
       "      <td>0.000000</td>\n",
       "      <td>1.000000</td>\n",
       "      <td>0.000000</td>\n",
       "      <td>268.000000</td>\n",
       "      <td>146.000000</td>\n",
       "      <td>89.000000</td>\n",
       "      <td>27.710000</td>\n",
       "      <td>85.000000</td>\n",
       "      <td>86.000000</td>\n",
       "      <td>0.000000</td>\n",
       "    </tr>\n",
       "    <tr>\n",
       "      <th>max</th>\n",
       "      <td>2033.000000</td>\n",
       "      <td>70.000000</td>\n",
       "      <td>4.000000</td>\n",
       "      <td>1.000000</td>\n",
       "      <td>43.000000</td>\n",
       "      <td>1.000000</td>\n",
       "      <td>1.000000</td>\n",
       "      <td>1.000000</td>\n",
       "      <td>1.000000</td>\n",
       "      <td>600.000000</td>\n",
       "      <td>295.000000</td>\n",
       "      <td>142.500000</td>\n",
       "      <td>56.800000</td>\n",
       "      <td>143.000000</td>\n",
       "      <td>394.000000</td>\n",
       "      <td>1.000000</td>\n",
       "    </tr>\n",
       "  </tbody>\n",
       "</table>\n",
       "</div>"
      ],
      "text/plain": [
       "       patient_female_id          age    education  current_smoker  \\\n",
       "count        2034.000000  2034.000000  2034.000000     2034.000000   \n",
       "mean         1016.500000    49.743854     1.963618        0.396755   \n",
       "std           587.309544     8.573273     0.966051        0.489345   \n",
       "min             0.000000    32.000000     1.000000        0.000000   \n",
       "25%           508.250000    42.000000     1.000000        0.000000   \n",
       "50%          1016.500000    49.000000     2.000000        0.000000   \n",
       "75%          1524.750000    56.000000     3.000000        1.000000   \n",
       "max          2033.000000    70.000000     4.000000        1.000000   \n",
       "\n",
       "       cigs_per_day      bp_meds  prevalent_stroke  prevalent_hyp  \\\n",
       "count   2034.000000  2034.000000       2034.000000    2034.000000   \n",
       "mean       5.497050     0.038348          0.005900       0.311209   \n",
       "std        8.739338     0.192082          0.076601       0.463102   \n",
       "min        0.000000     0.000000          0.000000       0.000000   \n",
       "25%        0.000000     0.000000          0.000000       0.000000   \n",
       "50%        0.000000     0.000000          0.000000       0.000000   \n",
       "75%       10.000000     0.000000          0.000000       1.000000   \n",
       "max       43.000000     1.000000          1.000000       1.000000   \n",
       "\n",
       "          diabetes     tot_chol       sys_bp       dia_bp          bmi  \\\n",
       "count  2034.000000  2034.000000  2034.000000  2034.000000  2034.000000   \n",
       "mean      0.025074   239.638151   133.265241    82.360619    25.519651   \n",
       "std       0.156388    46.168321    23.986809    12.308748     4.516267   \n",
       "min       0.000000   135.000000    83.500000    51.000000    15.960000   \n",
       "25%       0.000000   206.000000   116.000000    74.000000    22.540000   \n",
       "50%       0.000000   237.000000   128.000000    81.000000    24.720000   \n",
       "75%       0.000000   268.000000   146.000000    89.000000    27.710000   \n",
       "max       1.000000   600.000000   295.000000   142.500000    56.800000   \n",
       "\n",
       "        heart_rate      glucose  ten_year_chd  \n",
       "count  2034.000000  2034.000000   2034.000000  \n",
       "mean     76.960177    81.791052      0.122911  \n",
       "std      12.122018    23.586245      0.328415  \n",
       "min      46.000000    40.000000      0.000000  \n",
       "25%      69.000000    72.000000      0.000000  \n",
       "50%      75.000000    78.000000      0.000000  \n",
       "75%      85.000000    86.000000      0.000000  \n",
       "max     143.000000   394.000000      1.000000  "
      ]
     },
     "execution_count": 10,
     "metadata": {},
     "output_type": "execute_result"
    }
   ],
   "source": [
    "# Display Statistical Analysis\n",
    "chd_df.describe()"
   ]
  },
  {
   "cell_type": "code",
   "execution_count": 11,
   "metadata": {},
   "outputs": [
    {
     "data": {
      "text/html": [
       "<div>\n",
       "<style scoped>\n",
       "    .dataframe tbody tr th:only-of-type {\n",
       "        vertical-align: middle;\n",
       "    }\n",
       "\n",
       "    .dataframe tbody tr th {\n",
       "        vertical-align: top;\n",
       "    }\n",
       "\n",
       "    .dataframe thead th {\n",
       "        text-align: right;\n",
       "    }\n",
       "</style>\n",
       "<table border=\"1\" class=\"dataframe\">\n",
       "  <thead>\n",
       "    <tr style=\"text-align: right;\">\n",
       "      <th></th>\n",
       "      <th>age</th>\n",
       "      <th>education</th>\n",
       "      <th>current_smoker</th>\n",
       "      <th>cigs_per_day</th>\n",
       "      <th>bp_meds</th>\n",
       "      <th>prevalent_stroke</th>\n",
       "      <th>prevalent_hyp</th>\n",
       "      <th>diabetes</th>\n",
       "      <th>tot_chol</th>\n",
       "      <th>sys_bp</th>\n",
       "      <th>dia_bp</th>\n",
       "      <th>bmi</th>\n",
       "      <th>heart_rate</th>\n",
       "      <th>glucose</th>\n",
       "      <th>ten_year_chd</th>\n",
       "    </tr>\n",
       "  </thead>\n",
       "  <tbody>\n",
       "    <tr>\n",
       "      <th>0</th>\n",
       "      <td>46</td>\n",
       "      <td>2.0</td>\n",
       "      <td>0</td>\n",
       "      <td>0.0</td>\n",
       "      <td>0.0</td>\n",
       "      <td>0</td>\n",
       "      <td>0</td>\n",
       "      <td>0</td>\n",
       "      <td>250.0</td>\n",
       "      <td>121.0</td>\n",
       "      <td>81.0</td>\n",
       "      <td>28.73</td>\n",
       "      <td>95.0</td>\n",
       "      <td>76.0</td>\n",
       "      <td>0</td>\n",
       "    </tr>\n",
       "    <tr>\n",
       "      <th>1</th>\n",
       "      <td>61</td>\n",
       "      <td>3.0</td>\n",
       "      <td>1</td>\n",
       "      <td>30.0</td>\n",
       "      <td>0.0</td>\n",
       "      <td>0</td>\n",
       "      <td>1</td>\n",
       "      <td>0</td>\n",
       "      <td>225.0</td>\n",
       "      <td>150.0</td>\n",
       "      <td>95.0</td>\n",
       "      <td>28.58</td>\n",
       "      <td>65.0</td>\n",
       "      <td>103.0</td>\n",
       "      <td>1</td>\n",
       "    </tr>\n",
       "    <tr>\n",
       "      <th>2</th>\n",
       "      <td>46</td>\n",
       "      <td>3.0</td>\n",
       "      <td>1</td>\n",
       "      <td>23.0</td>\n",
       "      <td>0.0</td>\n",
       "      <td>0</td>\n",
       "      <td>0</td>\n",
       "      <td>0</td>\n",
       "      <td>285.0</td>\n",
       "      <td>130.0</td>\n",
       "      <td>84.0</td>\n",
       "      <td>23.10</td>\n",
       "      <td>85.0</td>\n",
       "      <td>85.0</td>\n",
       "      <td>0</td>\n",
       "    </tr>\n",
       "    <tr>\n",
       "      <th>3</th>\n",
       "      <td>43</td>\n",
       "      <td>2.0</td>\n",
       "      <td>0</td>\n",
       "      <td>0.0</td>\n",
       "      <td>0.0</td>\n",
       "      <td>0</td>\n",
       "      <td>1</td>\n",
       "      <td>0</td>\n",
       "      <td>228.0</td>\n",
       "      <td>180.0</td>\n",
       "      <td>110.0</td>\n",
       "      <td>30.30</td>\n",
       "      <td>77.0</td>\n",
       "      <td>99.0</td>\n",
       "      <td>0</td>\n",
       "    </tr>\n",
       "    <tr>\n",
       "      <th>4</th>\n",
       "      <td>63</td>\n",
       "      <td>1.0</td>\n",
       "      <td>0</td>\n",
       "      <td>0.0</td>\n",
       "      <td>0.0</td>\n",
       "      <td>0</td>\n",
       "      <td>0</td>\n",
       "      <td>0</td>\n",
       "      <td>205.0</td>\n",
       "      <td>138.0</td>\n",
       "      <td>71.0</td>\n",
       "      <td>33.11</td>\n",
       "      <td>60.0</td>\n",
       "      <td>85.0</td>\n",
       "      <td>1</td>\n",
       "    </tr>\n",
       "  </tbody>\n",
       "</table>\n",
       "</div>"
      ],
      "text/plain": [
       "   age  education  current_smoker  cigs_per_day  bp_meds  prevalent_stroke  \\\n",
       "0   46        2.0               0           0.0      0.0                 0   \n",
       "1   61        3.0               1          30.0      0.0                 0   \n",
       "2   46        3.0               1          23.0      0.0                 0   \n",
       "3   43        2.0               0           0.0      0.0                 0   \n",
       "4   63        1.0               0           0.0      0.0                 0   \n",
       "\n",
       "   prevalent_hyp  diabetes  tot_chol  sys_bp  dia_bp    bmi  heart_rate  \\\n",
       "0              0         0     250.0   121.0    81.0  28.73        95.0   \n",
       "1              1         0     225.0   150.0    95.0  28.58        65.0   \n",
       "2              0         0     285.0   130.0    84.0  23.10        85.0   \n",
       "3              1         0     228.0   180.0   110.0  30.30        77.0   \n",
       "4              0         0     205.0   138.0    71.0  33.11        60.0   \n",
       "\n",
       "   glucose  ten_year_chd  \n",
       "0     76.0             0  \n",
       "1    103.0             1  \n",
       "2     85.0             0  \n",
       "3     99.0             0  \n",
       "4     85.0             1  "
      ]
     },
     "execution_count": 11,
     "metadata": {},
     "output_type": "execute_result"
    }
   ],
   "source": [
    "# Dropping unwanted columns\n",
    "newchd_df =  chd_df.drop(columns = \"patient_female_id\")\n",
    "newchd_df.head()"
   ]
  },
  {
   "cell_type": "markdown",
   "metadata": {},
   "source": [
    "# Feature Engineering"
   ]
  },
  {
   "cell_type": "markdown",
   "metadata": {},
   "source": [
    "## Analyzing Distributions"
   ]
  },
  {
   "cell_type": "code",
   "execution_count": 12,
   "metadata": {},
   "outputs": [
    {
     "data": {
      "image/png": "[encoded data removed]",
      "text/plain": [
       "<Figure size 1440x720 with 1 Axes>"
      ]
     },
     "metadata": {},
     "output_type": "display_data"
    }
   ],
   "source": [
    "# Displaying a BoxPlot to check for outliers\n",
    "plt.figure(figsize=(20,10), facecolor='w')\n",
    "sns.boxplot(data=newchd_df)\n",
    "plt.show()"
   ]
  },
  {
   "cell_type": "code",
   "execution_count": 13,
   "metadata": {},
   "outputs": [
    {
     "name": "stdout",
     "output_type": "stream",
     "text": [
      " outlier in the dataset is [600.0]\n"
     ]
    }
   ],
   "source": [
    "# Printing outlier in Total Cholestrol \n",
    "# Code reference: https://www.geeksforgeeks.org/interquartile-range-to-detect-outliers-in-data/\n",
    "outlier =[]\n",
    "for x in newchd_df['tot_chol']:\n",
    "    if (x> 500):\n",
    "        outlier.append(x)\n",
    "print(' outlier in the dataset is', outlier)"
   ]
  },
  {
   "cell_type": "code",
   "execution_count": 14,
   "metadata": {},
   "outputs": [
    {
     "name": "stdout",
     "output_type": "stream",
     "text": [
      " outlier in the dataset is [295.0]\n"
     ]
    }
   ],
   "source": [
    "# Printing outlier in Systolic Blood Pressure\n",
    "outlier =[]\n",
    "for x in newchd_df['sys_bp']:\n",
    "    if (x> 250):\n",
    "        outlier.append(x)\n",
    "print(' outlier in the dataset is', outlier)"
   ]
  },
  {
   "cell_type": "code",
   "execution_count": 15,
   "metadata": {},
   "outputs": [
    {
     "data": {
      "text/plain": [
       "(2033, 15)"
      ]
     },
     "execution_count": 15,
     "metadata": {},
     "output_type": "execute_result"
    }
   ],
   "source": [
    "# Removing extreme outliers- Total Cholestrol\n",
    "# Code reference: https://stackoverflow.com/questions/43136137/drop-a-specific-row-in-pandas\n",
    "i = newchd_df[newchd_df[\"tot_chol\"] == 600].index\n",
    "newchd_df = newchd_df.drop(i)\n",
    "newchd_df.shape"
   ]
  },
  {
   "cell_type": "code",
   "execution_count": 16,
   "metadata": {},
   "outputs": [
    {
     "data": {
      "text/plain": [
       "(2032, 15)"
      ]
     },
     "execution_count": 16,
     "metadata": {},
     "output_type": "execute_result"
    }
   ],
   "source": [
    "# Removing extreme outliers- Sys BP\n",
    "j = newchd_df[newchd_df[\"sys_bp\"]==295].index\n",
    "newchd_df = newchd_df.drop(j)\n",
    "newchd_df.shape"
   ]
  },
  {
   "cell_type": "code",
   "execution_count": 17,
   "metadata": {},
   "outputs": [
    {
     "data": {
      "text/html": [
       "<div>\n",
       "<style scoped>\n",
       "    .dataframe tbody tr th:only-of-type {\n",
       "        vertical-align: middle;\n",
       "    }\n",
       "\n",
       "    .dataframe tbody tr th {\n",
       "        vertical-align: top;\n",
       "    }\n",
       "\n",
       "    .dataframe thead th {\n",
       "        text-align: right;\n",
       "    }\n",
       "</style>\n",
       "<table border=\"1\" class=\"dataframe\">\n",
       "  <thead>\n",
       "    <tr style=\"text-align: right;\">\n",
       "      <th></th>\n",
       "      <th>age</th>\n",
       "      <th>education</th>\n",
       "      <th>current_smoker</th>\n",
       "      <th>cigs_per_day</th>\n",
       "      <th>bp_meds</th>\n",
       "      <th>prevalent_stroke</th>\n",
       "      <th>prevalent_hyp</th>\n",
       "      <th>diabetes</th>\n",
       "      <th>tot_chol</th>\n",
       "      <th>sys_bp</th>\n",
       "      <th>dia_bp</th>\n",
       "      <th>bmi</th>\n",
       "      <th>heart_rate</th>\n",
       "      <th>glucose</th>\n",
       "      <th>ten_year_chd</th>\n",
       "    </tr>\n",
       "  </thead>\n",
       "  <tbody>\n",
       "    <tr>\n",
       "      <th>count</th>\n",
       "      <td>2032.000000</td>\n",
       "      <td>2032.000000</td>\n",
       "      <td>2032.000000</td>\n",
       "      <td>2032.000000</td>\n",
       "      <td>2032.000000</td>\n",
       "      <td>2032.000000</td>\n",
       "      <td>2032.000000</td>\n",
       "      <td>2032.000000</td>\n",
       "      <td>2032.000000</td>\n",
       "      <td>2032.000000</td>\n",
       "      <td>2032.000000</td>\n",
       "      <td>2032.000000</td>\n",
       "      <td>2032.000000</td>\n",
       "      <td>2032.000000</td>\n",
       "      <td>2032.000000</td>\n",
       "    </tr>\n",
       "    <tr>\n",
       "      <th>mean</th>\n",
       "      <td>49.735728</td>\n",
       "      <td>1.964075</td>\n",
       "      <td>0.397146</td>\n",
       "      <td>5.502461</td>\n",
       "      <td>0.038386</td>\n",
       "      <td>0.005906</td>\n",
       "      <td>0.310531</td>\n",
       "      <td>0.024606</td>\n",
       "      <td>239.454232</td>\n",
       "      <td>133.172736</td>\n",
       "      <td>82.328986</td>\n",
       "      <td>25.511752</td>\n",
       "      <td>76.952264</td>\n",
       "      <td>81.768209</td>\n",
       "      <td>0.122047</td>\n",
       "    </tr>\n",
       "    <tr>\n",
       "      <th>std</th>\n",
       "      <td>8.571508</td>\n",
       "      <td>0.966290</td>\n",
       "      <td>0.489427</td>\n",
       "      <td>8.741937</td>\n",
       "      <td>0.192173</td>\n",
       "      <td>0.076639</td>\n",
       "      <td>0.462825</td>\n",
       "      <td>0.154960</td>\n",
       "      <td>45.492327</td>\n",
       "      <td>23.721440</td>\n",
       "      <td>12.256527</td>\n",
       "      <td>4.508422</td>\n",
       "      <td>12.123368</td>\n",
       "      <td>23.561017</td>\n",
       "      <td>0.327421</td>\n",
       "    </tr>\n",
       "    <tr>\n",
       "      <th>min</th>\n",
       "      <td>32.000000</td>\n",
       "      <td>1.000000</td>\n",
       "      <td>0.000000</td>\n",
       "      <td>0.000000</td>\n",
       "      <td>0.000000</td>\n",
       "      <td>0.000000</td>\n",
       "      <td>0.000000</td>\n",
       "      <td>0.000000</td>\n",
       "      <td>135.000000</td>\n",
       "      <td>83.500000</td>\n",
       "      <td>51.000000</td>\n",
       "      <td>15.960000</td>\n",
       "      <td>46.000000</td>\n",
       "      <td>40.000000</td>\n",
       "      <td>0.000000</td>\n",
       "    </tr>\n",
       "    <tr>\n",
       "      <th>25%</th>\n",
       "      <td>42.000000</td>\n",
       "      <td>1.000000</td>\n",
       "      <td>0.000000</td>\n",
       "      <td>0.000000</td>\n",
       "      <td>0.000000</td>\n",
       "      <td>0.000000</td>\n",
       "      <td>0.000000</td>\n",
       "      <td>0.000000</td>\n",
       "      <td>206.000000</td>\n",
       "      <td>116.000000</td>\n",
       "      <td>74.000000</td>\n",
       "      <td>22.540000</td>\n",
       "      <td>69.000000</td>\n",
       "      <td>72.000000</td>\n",
       "      <td>0.000000</td>\n",
       "    </tr>\n",
       "    <tr>\n",
       "      <th>50%</th>\n",
       "      <td>49.000000</td>\n",
       "      <td>2.000000</td>\n",
       "      <td>0.000000</td>\n",
       "      <td>0.000000</td>\n",
       "      <td>0.000000</td>\n",
       "      <td>0.000000</td>\n",
       "      <td>0.000000</td>\n",
       "      <td>0.000000</td>\n",
       "      <td>237.000000</td>\n",
       "      <td>128.000000</td>\n",
       "      <td>81.000000</td>\n",
       "      <td>24.710000</td>\n",
       "      <td>75.000000</td>\n",
       "      <td>78.000000</td>\n",
       "      <td>0.000000</td>\n",
       "    </tr>\n",
       "    <tr>\n",
       "      <th>75%</th>\n",
       "      <td>56.000000</td>\n",
       "      <td>3.000000</td>\n",
       "      <td>1.000000</td>\n",
       "      <td>10.000000</td>\n",
       "      <td>0.000000</td>\n",
       "      <td>0.000000</td>\n",
       "      <td>1.000000</td>\n",
       "      <td>0.000000</td>\n",
       "      <td>268.000000</td>\n",
       "      <td>146.000000</td>\n",
       "      <td>89.000000</td>\n",
       "      <td>27.695000</td>\n",
       "      <td>85.000000</td>\n",
       "      <td>86.000000</td>\n",
       "      <td>0.000000</td>\n",
       "    </tr>\n",
       "    <tr>\n",
       "      <th>max</th>\n",
       "      <td>70.000000</td>\n",
       "      <td>4.000000</td>\n",
       "      <td>1.000000</td>\n",
       "      <td>43.000000</td>\n",
       "      <td>1.000000</td>\n",
       "      <td>1.000000</td>\n",
       "      <td>1.000000</td>\n",
       "      <td>1.000000</td>\n",
       "      <td>464.000000</td>\n",
       "      <td>248.000000</td>\n",
       "      <td>142.500000</td>\n",
       "      <td>56.800000</td>\n",
       "      <td>143.000000</td>\n",
       "      <td>394.000000</td>\n",
       "      <td>1.000000</td>\n",
       "    </tr>\n",
       "  </tbody>\n",
       "</table>\n",
       "</div>"
      ],
      "text/plain": [
       "               age    education  current_smoker  cigs_per_day      bp_meds  \\\n",
       "count  2032.000000  2032.000000     2032.000000   2032.000000  2032.000000   \n",
       "mean     49.735728     1.964075        0.397146      5.502461     0.038386   \n",
       "std       8.571508     0.966290        0.489427      8.741937     0.192173   \n",
       "min      32.000000     1.000000        0.000000      0.000000     0.000000   \n",
       "25%      42.000000     1.000000        0.000000      0.000000     0.000000   \n",
       "50%      49.000000     2.000000        0.000000      0.000000     0.000000   \n",
       "75%      56.000000     3.000000        1.000000     10.000000     0.000000   \n",
       "max      70.000000     4.000000        1.000000     43.000000     1.000000   \n",
       "\n",
       "       prevalent_stroke  prevalent_hyp     diabetes     tot_chol       sys_bp  \\\n",
       "count       2032.000000    2032.000000  2032.000000  2032.000000  2032.000000   \n",
       "mean           0.005906       0.310531     0.024606   239.454232   133.172736   \n",
       "std            0.076639       0.462825     0.154960    45.492327    23.721440   \n",
       "min            0.000000       0.000000     0.000000   135.000000    83.500000   \n",
       "25%            0.000000       0.000000     0.000000   206.000000   116.000000   \n",
       "50%            0.000000       0.000000     0.000000   237.000000   128.000000   \n",
       "75%            0.000000       1.000000     0.000000   268.000000   146.000000   \n",
       "max            1.000000       1.000000     1.000000   464.000000   248.000000   \n",
       "\n",
       "            dia_bp          bmi   heart_rate      glucose  ten_year_chd  \n",
       "count  2032.000000  2032.000000  2032.000000  2032.000000   2032.000000  \n",
       "mean     82.328986    25.511752    76.952264    81.768209      0.122047  \n",
       "std      12.256527     4.508422    12.123368    23.561017      0.327421  \n",
       "min      51.000000    15.960000    46.000000    40.000000      0.000000  \n",
       "25%      74.000000    22.540000    69.000000    72.000000      0.000000  \n",
       "50%      81.000000    24.710000    75.000000    78.000000      0.000000  \n",
       "75%      89.000000    27.695000    85.000000    86.000000      0.000000  \n",
       "max     142.500000    56.800000   143.000000   394.000000      1.000000  "
      ]
     },
     "execution_count": 17,
     "metadata": {},
     "output_type": "execute_result"
    }
   ],
   "source": [
    "# Display Statistical Analysis\n",
    "newchd_df.describe()"
   ]
  },
  {
   "cell_type": "code",
   "execution_count": 18,
   "metadata": {},
   "outputs": [
    {
     "name": "stderr",
     "output_type": "stream",
     "text": [
      "/Users/njraman/opt/anaconda3/envs/mlenv/lib/python3.7/site-packages/seaborn/_decorators.py:43: FutureWarning: Pass the following variable as a keyword arg: x. From version 0.12, the only valid positional argument will be `data`, and passing other arguments without an explicit keyword will result in an error or misinterpretation.\n",
      "  FutureWarning\n"
     ]
    },
    {
     "data": {
      "text/plain": [
       "<AxesSubplot:xlabel='education', ylabel='count'>"
      ]
     },
     "execution_count": 18,
     "metadata": {},
     "output_type": "execute_result"
    },
    {
     "data": {
      "image/png": "[encoded data removed]",
      "text/plain": [
       "<Figure size 432x288 with 1 Axes>"
      ]
     },
     "metadata": {
      "needs_background": "light"
     },
     "output_type": "display_data"
    }
   ],
   "source": [
    "# Plotting data distribution in categorical variables- education\n",
    "sns.countplot(newchd_df.education)"
   ]
  },
  {
   "cell_type": "code",
   "execution_count": 19,
   "metadata": {},
   "outputs": [
    {
     "name": "stderr",
     "output_type": "stream",
     "text": [
      "/Users/njraman/opt/anaconda3/envs/mlenv/lib/python3.7/site-packages/seaborn/_decorators.py:43: FutureWarning: Pass the following variable as a keyword arg: x. From version 0.12, the only valid positional argument will be `data`, and passing other arguments without an explicit keyword will result in an error or misinterpretation.\n",
      "  FutureWarning\n"
     ]
    },
    {
     "data": {
      "text/plain": [
       "<AxesSubplot:xlabel='current_smoker', ylabel='count'>"
      ]
     },
     "execution_count": 19,
     "metadata": {},
     "output_type": "execute_result"
    },
    {
     "data": {
      "image/png": "[encoded data removed]",
      "text/plain": [
       "<Figure size 432x288 with 1 Axes>"
      ]
     },
     "metadata": {
      "needs_background": "light"
     },
     "output_type": "display_data"
    }
   ],
   "source": [
    "# Plotting data distribution in categorical variables- Current Smoker\n",
    "sns.countplot(newchd_df.current_smoker)"
   ]
  },
  {
   "cell_type": "code",
   "execution_count": 20,
   "metadata": {},
   "outputs": [
    {
     "name": "stderr",
     "output_type": "stream",
     "text": [
      "/Users/njraman/opt/anaconda3/envs/mlenv/lib/python3.7/site-packages/seaborn/_decorators.py:43: FutureWarning: Pass the following variable as a keyword arg: x. From version 0.12, the only valid positional argument will be `data`, and passing other arguments without an explicit keyword will result in an error or misinterpretation.\n",
      "  FutureWarning\n"
     ]
    },
    {
     "data": {
      "text/plain": [
       "<AxesSubplot:xlabel='bp_meds', ylabel='count'>"
      ]
     },
     "execution_count": 20,
     "metadata": {},
     "output_type": "execute_result"
    },
    {
     "data": {
      "image/png": "[encoded data removed]",
      "text/plain": [
       "<Figure size 432x288 with 1 Axes>"
      ]
     },
     "metadata": {
      "needs_background": "light"
     },
     "output_type": "display_data"
    }
   ],
   "source": [
    "# Plotting data distribution in categorical variables- Bp Meds\n",
    "sns.countplot(newchd_df.bp_meds)"
   ]
  },
  {
   "cell_type": "code",
   "execution_count": 21,
   "metadata": {},
   "outputs": [
    {
     "name": "stderr",
     "output_type": "stream",
     "text": [
      "/Users/njraman/opt/anaconda3/envs/mlenv/lib/python3.7/site-packages/seaborn/_decorators.py:43: FutureWarning: Pass the following variable as a keyword arg: x. From version 0.12, the only valid positional argument will be `data`, and passing other arguments without an explicit keyword will result in an error or misinterpretation.\n",
      "  FutureWarning\n"
     ]
    },
    {
     "data": {
      "text/plain": [
       "<AxesSubplot:xlabel='prevalent_stroke', ylabel='count'>"
      ]
     },
     "execution_count": 21,
     "metadata": {},
     "output_type": "execute_result"
    },
    {
     "data": {
      "image/png": "[encoded data removed]",
      "text/plain": [
       "<Figure size 432x288 with 1 Axes>"
      ]
     },
     "metadata": {
      "needs_background": "light"
     },
     "output_type": "display_data"
    }
   ],
   "source": [
    "# Plotting data distribution in categorical variables- Prevalent Stroke\n",
    "sns.countplot(newchd_df.prevalent_stroke)"
   ]
  },
  {
   "cell_type": "code",
   "execution_count": 22,
   "metadata": {},
   "outputs": [
    {
     "name": "stderr",
     "output_type": "stream",
     "text": [
      "/Users/njraman/opt/anaconda3/envs/mlenv/lib/python3.7/site-packages/seaborn/_decorators.py:43: FutureWarning: Pass the following variable as a keyword arg: x. From version 0.12, the only valid positional argument will be `data`, and passing other arguments without an explicit keyword will result in an error or misinterpretation.\n",
      "  FutureWarning\n"
     ]
    },
    {
     "data": {
      "text/plain": [
       "<AxesSubplot:xlabel='prevalent_hyp', ylabel='count'>"
      ]
     },
     "execution_count": 22,
     "metadata": {},
     "output_type": "execute_result"
    },
    {
     "data": {
      "image/png": "[encoded data removed]",
      "text/plain": [
       "<Figure size 432x288 with 1 Axes>"
      ]
     },
     "metadata": {
      "needs_background": "light"
     },
     "output_type": "display_data"
    }
   ],
   "source": [
    "# Plotting data distribution in categorical variables- Prevalent Hypertension\n",
    "sns.countplot(newchd_df.prevalent_hyp)"
   ]
  },
  {
   "cell_type": "code",
   "execution_count": 23,
   "metadata": {},
   "outputs": [
    {
     "name": "stderr",
     "output_type": "stream",
     "text": [
      "/Users/njraman/opt/anaconda3/envs/mlenv/lib/python3.7/site-packages/seaborn/_decorators.py:43: FutureWarning: Pass the following variable as a keyword arg: x. From version 0.12, the only valid positional argument will be `data`, and passing other arguments without an explicit keyword will result in an error or misinterpretation.\n",
      "  FutureWarning\n"
     ]
    },
    {
     "data": {
      "text/plain": [
       "<AxesSubplot:xlabel='diabetes', ylabel='count'>"
      ]
     },
     "execution_count": 23,
     "metadata": {},
     "output_type": "execute_result"
    },
    {
     "data": {
      "image/png": "[encoded data removed]",
      "text/plain": [
       "<Figure size 432x288 with 1 Axes>"
      ]
     },
     "metadata": {
      "needs_background": "light"
     },
     "output_type": "display_data"
    }
   ],
   "source": [
    "# Plotting data distribution in categorical variables- Diabetes\n",
    "sns.countplot(newchd_df.diabetes)"
   ]
  },
  {
   "cell_type": "code",
   "execution_count": 24,
   "metadata": {},
   "outputs": [
    {
     "name": "stderr",
     "output_type": "stream",
     "text": [
      "/Users/njraman/opt/anaconda3/envs/mlenv/lib/python3.7/site-packages/seaborn/_decorators.py:43: FutureWarning: Pass the following variable as a keyword arg: x. From version 0.12, the only valid positional argument will be `data`, and passing other arguments without an explicit keyword will result in an error or misinterpretation.\n",
      "  FutureWarning\n"
     ]
    },
    {
     "data": {
      "text/plain": [
       "<AxesSubplot:xlabel='ten_year_chd', ylabel='count'>"
      ]
     },
     "execution_count": 24,
     "metadata": {},
     "output_type": "execute_result"
    },
    {
     "data": {
      "image/png": "[encoded data removed]",
      "text/plain": [
       "<Figure size 432x288 with 1 Axes>"
      ]
     },
     "metadata": {
      "needs_background": "light"
     },
     "output_type": "display_data"
    }
   ],
   "source": [
    "# Plotting data distribution in Target Variable -  Ten year CHD\n",
    "sns.countplot(newchd_df.ten_year_chd)"
   ]
  },
  {
   "cell_type": "code",
   "execution_count": 25,
   "metadata": {},
   "outputs": [
    {
     "name": "stderr",
     "output_type": "stream",
     "text": [
      "/Users/njraman/opt/anaconda3/envs/mlenv/lib/python3.7/site-packages/seaborn/distributions.py:2557: FutureWarning: `distplot` is a deprecated function and will be removed in a future version. Please adapt your code to use either `displot` (a figure-level function with similar flexibility) or `histplot` (an axes-level function for histograms).\n",
      "  warnings.warn(msg, FutureWarning)\n"
     ]
    },
    {
     "data": {
      "text/plain": [
       "<AxesSubplot:xlabel='cigs_per_day', ylabel='Density'>"
      ]
     },
     "execution_count": 25,
     "metadata": {},
     "output_type": "execute_result"
    },
    {
     "data": {
      "image/png": "[encoded data removed]",
      "text/plain": [
       "<Figure size 432x288 with 1 Axes>"
      ]
     },
     "metadata": {
      "needs_background": "light"
     },
     "output_type": "display_data"
    }
   ],
   "source": [
    "# Plotting data distribution in numerical variables - Ciagarettes per Day\n",
    "sns.distplot(newchd_df['cigs_per_day'])"
   ]
  },
  {
   "cell_type": "code",
   "execution_count": 26,
   "metadata": {},
   "outputs": [
    {
     "name": "stderr",
     "output_type": "stream",
     "text": [
      "/Users/njraman/opt/anaconda3/envs/mlenv/lib/python3.7/site-packages/seaborn/distributions.py:2557: FutureWarning: `distplot` is a deprecated function and will be removed in a future version. Please adapt your code to use either `displot` (a figure-level function with similar flexibility) or `histplot` (an axes-level function for histograms).\n",
      "  warnings.warn(msg, FutureWarning)\n"
     ]
    },
    {
     "data": {
      "text/plain": [
       "<AxesSubplot:xlabel='tot_chol', ylabel='Density'>"
      ]
     },
     "execution_count": 26,
     "metadata": {},
     "output_type": "execute_result"
    },
    {
     "data": {
      "image/png": "[encoded data removed]",
      "text/plain": [
       "<Figure size 432x288 with 1 Axes>"
      ]
     },
     "metadata": {
      "needs_background": "light"
     },
     "output_type": "display_data"
    }
   ],
   "source": [
    "# Plotting data distribution in numerical variables - Total Cholestrol\n",
    "sns.distplot(newchd_df['tot_chol'])"
   ]
  },
  {
   "cell_type": "code",
   "execution_count": 27,
   "metadata": {},
   "outputs": [
    {
     "name": "stderr",
     "output_type": "stream",
     "text": [
      "/Users/njraman/opt/anaconda3/envs/mlenv/lib/python3.7/site-packages/seaborn/distributions.py:2557: FutureWarning: `distplot` is a deprecated function and will be removed in a future version. Please adapt your code to use either `displot` (a figure-level function with similar flexibility) or `histplot` (an axes-level function for histograms).\n",
      "  warnings.warn(msg, FutureWarning)\n"
     ]
    },
    {
     "data": {
      "text/plain": [
       "<AxesSubplot:xlabel='sys_bp', ylabel='Density'>"
      ]
     },
     "execution_count": 27,
     "metadata": {},
     "output_type": "execute_result"
    },
    {
     "data": {
      "image/png": "[encoded data removed]",
      "text/plain": [
       "<Figure size 432x288 with 1 Axes>"
      ]
     },
     "metadata": {
      "needs_background": "light"
     },
     "output_type": "display_data"
    }
   ],
   "source": [
    "# Plotting data distribution in numerical variables - Systolic Blood pressure\n",
    "sns.distplot(newchd_df['sys_bp'])"
   ]
  },
  {
   "cell_type": "code",
   "execution_count": 28,
   "metadata": {},
   "outputs": [
    {
     "name": "stderr",
     "output_type": "stream",
     "text": [
      "/Users/njraman/opt/anaconda3/envs/mlenv/lib/python3.7/site-packages/seaborn/distributions.py:2557: FutureWarning: `distplot` is a deprecated function and will be removed in a future version. Please adapt your code to use either `displot` (a figure-level function with similar flexibility) or `histplot` (an axes-level function for histograms).\n",
      "  warnings.warn(msg, FutureWarning)\n"
     ]
    },
    {
     "data": {
      "text/plain": [
       "<AxesSubplot:xlabel='dia_bp', ylabel='Density'>"
      ]
     },
     "execution_count": 28,
     "metadata": {},
     "output_type": "execute_result"
    },
    {
     "data": {
      "image/png": "[encoded data removed]",
      "text/plain": [
       "<Figure size 432x288 with 1 Axes>"
      ]
     },
     "metadata": {
      "needs_background": "light"
     },
     "output_type": "display_data"
    }
   ],
   "source": [
    "# Plotting data distribution in numerical variables - Diastolic Blood Pressure\n",
    "sns.distplot(newchd_df['dia_bp'])"
   ]
  },
  {
   "cell_type": "code",
   "execution_count": 29,
   "metadata": {},
   "outputs": [
    {
     "name": "stderr",
     "output_type": "stream",
     "text": [
      "/Users/njraman/opt/anaconda3/envs/mlenv/lib/python3.7/site-packages/seaborn/distributions.py:2557: FutureWarning: `distplot` is a deprecated function and will be removed in a future version. Please adapt your code to use either `displot` (a figure-level function with similar flexibility) or `histplot` (an axes-level function for histograms).\n",
      "  warnings.warn(msg, FutureWarning)\n"
     ]
    },
    {
     "data": {
      "text/plain": [
       "<AxesSubplot:xlabel='bmi', ylabel='Density'>"
      ]
     },
     "execution_count": 29,
     "metadata": {},
     "output_type": "execute_result"
    },
    {
     "data": {
      "image/png": "[encoded data removed]",
      "text/plain": [
       "<Figure size 432x288 with 1 Axes>"
      ]
     },
     "metadata": {
      "needs_background": "light"
     },
     "output_type": "display_data"
    }
   ],
   "source": [
    "# Plotting data distribution in numerical variables - BMI\n",
    "sns.distplot(newchd_df['bmi'])"
   ]
  },
  {
   "cell_type": "code",
   "execution_count": 30,
   "metadata": {},
   "outputs": [
    {
     "name": "stderr",
     "output_type": "stream",
     "text": [
      "/Users/njraman/opt/anaconda3/envs/mlenv/lib/python3.7/site-packages/seaborn/distributions.py:2557: FutureWarning: `distplot` is a deprecated function and will be removed in a future version. Please adapt your code to use either `displot` (a figure-level function with similar flexibility) or `histplot` (an axes-level function for histograms).\n",
      "  warnings.warn(msg, FutureWarning)\n"
     ]
    },
    {
     "data": {
      "text/plain": [
       "<AxesSubplot:xlabel='heart_rate', ylabel='Density'>"
      ]
     },
     "execution_count": 30,
     "metadata": {},
     "output_type": "execute_result"
    },
    {
     "data": {
      "image/png": "[encoded data removed]",
      "text/plain": [
       "<Figure size 432x288 with 1 Axes>"
      ]
     },
     "metadata": {
      "needs_background": "light"
     },
     "output_type": "display_data"
    }
   ],
   "source": [
    "# Plotting data distribution in numerical variables - Heart Rate\n",
    "sns.distplot(newchd_df['heart_rate'])"
   ]
  },
  {
   "cell_type": "code",
   "execution_count": 31,
   "metadata": {},
   "outputs": [
    {
     "name": "stderr",
     "output_type": "stream",
     "text": [
      "/Users/njraman/opt/anaconda3/envs/mlenv/lib/python3.7/site-packages/seaborn/distributions.py:2557: FutureWarning: `distplot` is a deprecated function and will be removed in a future version. Please adapt your code to use either `displot` (a figure-level function with similar flexibility) or `histplot` (an axes-level function for histograms).\n",
      "  warnings.warn(msg, FutureWarning)\n"
     ]
    },
    {
     "data": {
      "text/plain": [
       "<AxesSubplot:xlabel='glucose', ylabel='Density'>"
      ]
     },
     "execution_count": 31,
     "metadata": {},
     "output_type": "execute_result"
    },
    {
     "data": {
      "image/png": "[encoded data removed]",
      "text/plain": [
       "<Figure size 432x288 with 1 Axes>"
      ]
     },
     "metadata": {
      "needs_background": "light"
     },
     "output_type": "display_data"
    }
   ],
   "source": [
    "# Plotting data distribution in numerical variables - Glucose\n",
    "sns.distplot(newchd_df['glucose'])"
   ]
  },
  {
   "cell_type": "markdown",
   "metadata": {},
   "source": [
    "## Analyzing Relationships"
   ]
  },
  {
   "cell_type": "code",
   "execution_count": 32,
   "metadata": {
    "scrolled": true
   },
   "outputs": [
    {
     "name": "stdout",
     "output_type": "stream",
     "text": [
      "                       age  education  current_smoker  cigs_per_day   bp_meds  \\\n",
      "age               1.000000  -0.167121       -0.265804     -0.235161  0.169665   \n",
      "education        -0.167121   1.000000        0.098896      0.061008 -0.024388   \n",
      "current_smoker   -0.265804   0.098896        1.000000      0.775689 -0.036526   \n",
      "cigs_per_day     -0.235161   0.061008        0.775689      1.000000 -0.027020   \n",
      "bp_meds           0.169665  -0.024388       -0.036526     -0.027020  1.000000   \n",
      "prevalent_stroke  0.047348  -0.056972       -0.036305     -0.033827  0.118324   \n",
      "prevalent_hyp     0.415126  -0.121469       -0.162150     -0.129974  0.297707   \n",
      "diabetes          0.107209  -0.066435       -0.018550     -0.011312  0.084004   \n",
      "tot_chol          0.427181  -0.028459       -0.092603     -0.072680  0.124780   \n",
      "sys_bp            0.480988  -0.152336       -0.175252     -0.131290  0.285684   \n",
      "dia_bp            0.315356  -0.098403       -0.171997     -0.122044  0.229179   \n",
      "bmi               0.228835  -0.217413       -0.188536     -0.153200  0.145093   \n",
      "heart_rate        0.003314  -0.059871        0.030497      0.058893 -0.014852   \n",
      "glucose           0.136711  -0.043944       -0.044062     -0.055185  0.095050   \n",
      "ten_year_chd      0.235885  -0.087290       -0.032237      0.000755  0.113310   \n",
      "\n",
      "                  prevalent_stroke  prevalent_hyp  diabetes  tot_chol  \\\n",
      "age                       0.047348       0.415126  0.107209  0.427181   \n",
      "education                -0.056972      -0.121469 -0.066435 -0.028459   \n",
      "current_smoker           -0.036305      -0.162150 -0.018550 -0.092603   \n",
      "cigs_per_day             -0.033827      -0.129974 -0.011312 -0.072680   \n",
      "bp_meds                   0.118324       0.297707  0.084004  0.124780   \n",
      "prevalent_stroke          1.000000       0.073204  0.029217  0.029028   \n",
      "prevalent_hyp             0.073204       1.000000  0.113093  0.221066   \n",
      "diabetes                  0.029217       0.113093  1.000000  0.063858   \n",
      "tot_chol                  0.029028       0.221066  0.063858  1.000000   \n",
      "sys_bp                    0.067959       0.728627  0.131516  0.279747   \n",
      "dia_bp                    0.062142       0.627102  0.085822  0.209436   \n",
      "bmi                       0.057469       0.354860  0.112849  0.138424   \n",
      "heart_rate               -0.021953       0.127951  0.066147  0.068622   \n",
      "glucose                   0.040569       0.136010  0.606130  0.052076   \n",
      "ten_year_chd              0.049749       0.207906  0.076641  0.100798   \n",
      "\n",
      "                    sys_bp    dia_bp       bmi  heart_rate   glucose  \\\n",
      "age               0.480988  0.315356  0.228835    0.003314  0.136711   \n",
      "education        -0.152336 -0.098403 -0.217413   -0.059871 -0.043944   \n",
      "current_smoker   -0.175252 -0.171997 -0.188536    0.030497 -0.044062   \n",
      "cigs_per_day     -0.131290 -0.122044 -0.153200    0.058893 -0.055185   \n",
      "bp_meds           0.285684  0.229179  0.145093   -0.014852  0.095050   \n",
      "prevalent_stroke  0.067959  0.062142  0.057469   -0.021953  0.040569   \n",
      "prevalent_hyp     0.728627  0.627102  0.354860    0.127951  0.136010   \n",
      "diabetes          0.131516  0.085822  0.112849    0.066147  0.606130   \n",
      "tot_chol          0.279747  0.209436  0.138424    0.068622  0.052076   \n",
      "sys_bp            1.000000  0.802235  0.381411    0.159242  0.181375   \n",
      "dia_bp            0.802235  1.000000  0.416144    0.173874  0.106168   \n",
      "bmi               0.381411  0.416144  1.000000    0.075076  0.116568   \n",
      "heart_rate        0.159242  0.173874  0.075076    1.000000  0.102488   \n",
      "glucose           0.181375  0.106168  0.116568    0.102488  1.000000   \n",
      "ten_year_chd      0.226863  0.150839  0.111317    0.007794  0.123468   \n",
      "\n",
      "                  ten_year_chd  \n",
      "age                   0.235885  \n",
      "education            -0.087290  \n",
      "current_smoker       -0.032237  \n",
      "cigs_per_day          0.000755  \n",
      "bp_meds               0.113310  \n",
      "prevalent_stroke      0.049749  \n",
      "prevalent_hyp         0.207906  \n",
      "diabetes              0.076641  \n",
      "tot_chol              0.100798  \n",
      "sys_bp                0.226863  \n",
      "dia_bp                0.150839  \n",
      "bmi                   0.111317  \n",
      "heart_rate            0.007794  \n",
      "glucose               0.123468  \n",
      "ten_year_chd          1.000000  \n"
     ]
    },
    {
     "data": {
      "text/plain": [
       "Text(0.5, 1.0, 'Correlation among all the Variables of the Dataset')"
      ]
     },
     "execution_count": 32,
     "metadata": {},
     "output_type": "execute_result"
    },
    {
     "data": {
      "image/png": "[encoded data removed]",
      "text/plain": [
       "<Figure size 1440x720 with 2 Axes>"
      ]
     },
     "metadata": {},
     "output_type": "display_data"
    }
   ],
   "source": [
    "#Checking correlation between the different variables\n",
    "print (newchd_df.corr())\n",
    "plt.figure(figsize=(20,10), facecolor='w')\n",
    "sns.heatmap(newchd_df.corr(),annot=True)\n",
    "plt.title(\"Correlation among all the Variables of the Dataset\", size=20)"
   ]
  },
  {
   "cell_type": "markdown",
   "metadata": {},
   "source": [
    "# Feature Selection"
   ]
  },
  {
   "cell_type": "code",
   "execution_count": 108,
   "metadata": {},
   "outputs": [],
   "source": [
    "# Defining the X and y values\n",
    "y = newchd_df[\"ten_year_chd\"]\n",
    "X = newchd_df.drop(columns=[\"ten_year_chd\"])"
   ]
  },
  {
   "cell_type": "code",
   "execution_count": 109,
   "metadata": {},
   "outputs": [
    {
     "name": "stdout",
     "output_type": "stream",
     "text": [
      "(1828, 14)\n",
      "(204, 14)\n"
     ]
    }
   ],
   "source": [
    "# Splitting data into train and test sets\n",
    "from sklearn.model_selection import train_test_split\n",
    "X_train, X_test, y_train, y_test = train_test_split(X,\n",
    "   y,test_size = 0.1, random_state = 0)\n",
    "print(X_train.shape)\n",
    "print(X_test.shape)"
   ]
  },
  {
   "cell_type": "code",
   "execution_count": 110,
   "metadata": {},
   "outputs": [],
   "source": [
    "#Code reference: https://machinelearningmastery.com/feature-selection-with-numerical-input-data/\n",
    "# Calculating Feature Scores using f Classif\n",
    "fs = SelectKBest(score_func=f_classif, k='all')\n",
    "# learn relationship from training data\n",
    "fs.fit(X_train, y_train)\n",
    "# transform train input data\n",
    "X_train_fs = fs.transform(X_train)\n",
    "# transform test input data\n",
    "X_test_fs = fs.transform(X_test)"
   ]
  },
  {
   "cell_type": "code",
   "execution_count": 111,
   "metadata": {},
   "outputs": [
    {
     "name": "stdout",
     "output_type": "stream",
     "text": [
      "                           0                 1\n",
      "age               108.141375               age\n",
      "sys_bp             94.579767            sys_bp\n",
      "prevalent_hyp      82.184525     prevalent_hyp\n",
      "dia_bp             44.318883            dia_bp\n",
      "glucose            34.110045           glucose\n",
      "bmi                29.113986               bmi\n",
      "tot_chol           23.235388          tot_chol\n",
      "bp_meds            19.040390           bp_meds\n",
      "education          16.312489         education\n",
      "diabetes           15.519736          diabetes\n",
      "prevalent_stroke    2.976250  prevalent_stroke\n",
      "current_smoker      2.456484    current_smoker\n",
      "cigs_per_day        0.055454      cigs_per_day\n",
      "heart_rate          0.007801        heart_rate\n"
     ]
    },
    {
     "data": {
      "text/plain": [
       "<AxesSubplot:>"
      ]
     },
     "execution_count": 111,
     "metadata": {},
     "output_type": "execute_result"
    },
    {
     "data": {
      "image/png": "[encoded data removed]",
      "text/plain": [
       "<Figure size 432x288 with 1 Axes>"
      ]
     },
     "metadata": {
      "needs_background": "light"
     },
     "output_type": "display_data"
    }
   ],
   "source": [
    "#Printing and Plotting Feature scores\n",
    "# Code reference: https://stackoverflow.com/questions/41900387/mapping-column-names-to-random-forest-feature-importances\n",
    "scores = list(zip(fs.scores_,X.columns))\n",
    "scores.sort(reverse=True)\n",
    "scores_df = pd.DataFrame(scores, index=[x for (_,x) in scores])\n",
    "print(scores_df)\n",
    "scores_df.plot(kind = 'bar')"
   ]
  },
  {
   "cell_type": "code",
   "execution_count": 112,
   "metadata": {},
   "outputs": [],
   "source": [
    "#Code reference: https://machinelearningmastery.com/feature-selection-with-numerical-input-data/\n",
    "# Calculating Feature Scores using Mutual Information Feature Selection\n",
    "fs = SelectKBest(score_func=mutual_info_classif, k='all')\n",
    "# learn relationship from training data\n",
    "fs.fit(X_train, y_train)\n",
    "# transform train input data\n",
    "X_train_fs = fs.transform(X_train)\n",
    "# transform test input data\n",
    "X_test_fs = fs.transform(X_test)"
   ]
  },
  {
   "cell_type": "code",
   "execution_count": 113,
   "metadata": {},
   "outputs": [
    {
     "name": "stdout",
     "output_type": "stream",
     "text": [
      "                         0                 1\n",
      "prevalent_hyp     0.023671     prevalent_hyp\n",
      "age               0.023445               age\n",
      "sys_bp            0.018131            sys_bp\n",
      "education         0.016705         education\n",
      "bmi               0.011299               bmi\n",
      "dia_bp            0.006502            dia_bp\n",
      "glucose           0.006160           glucose\n",
      "heart_rate        0.003844        heart_rate\n",
      "current_smoker    0.003815    current_smoker\n",
      "tot_chol          0.003202          tot_chol\n",
      "cigs_per_day      0.002452      cigs_per_day\n",
      "prevalent_stroke  0.000000  prevalent_stroke\n",
      "diabetes          0.000000          diabetes\n",
      "bp_meds           0.000000           bp_meds\n"
     ]
    },
    {
     "data": {
      "text/plain": [
       "<AxesSubplot:>"
      ]
     },
     "execution_count": 113,
     "metadata": {},
     "output_type": "execute_result"
    },
    {
     "data": {
      "image/png": "[encoded data removed]",
      "text/plain": [
       "<Figure size 432x288 with 1 Axes>"
      ]
     },
     "metadata": {
      "needs_background": "light"
     },
     "output_type": "display_data"
    }
   ],
   "source": [
    "#Printing and Plotting Feature scores\n",
    "# Code reference: https://stackoverflow.com/questions/41900387/mapping-column-names-to-random-forest-feature-importances\n",
    "scores = list(zip(fs.scores_,X.columns))\n",
    "scores.sort(reverse=True)\n",
    "scores_df = pd.DataFrame(scores, index=[x for (_,x) in scores])\n",
    "print(scores_df)\n",
    "scores_df.plot(kind = 'bar')"
   ]
  },
  {
   "cell_type": "code",
   "execution_count": 114,
   "metadata": {},
   "outputs": [],
   "source": [
    "# Calculating Feature Scores using Mutual Information Feature Selection\n",
    "fs = SelectKBest(score_func=chi2, k='all')\n",
    "# learn relationship from training data\n",
    "fs.fit(X_train, y_train)\n",
    "# transform train input data\n",
    "X_train_fs = fs.transform(X_train)\n",
    "# transform test input data\n",
    "X_test_fs = fs.transform(X_test)"
   ]
  },
  {
   "cell_type": "code",
   "execution_count": 115,
   "metadata": {},
   "outputs": [
    {
     "name": "stdout",
     "output_type": "stream",
     "text": [
      "                           0                 1\n",
      "sys_bp            381.457295            sys_bp\n",
      "glucose           243.732720           glucose\n",
      "tot_chol          198.097415          tot_chol\n",
      "age               149.788896               age\n",
      "dia_bp             78.882183            dia_bp\n",
      "prevalent_hyp      54.482898     prevalent_hyp\n",
      "bmi                23.041082               bmi\n",
      "bp_meds            18.152473           bp_meds\n",
      "diabetes           15.026550          diabetes\n",
      "education           7.706378         education\n",
      "prevalent_stroke    2.958388  prevalent_stroke\n",
      "current_smoker      1.489913    current_smoker\n",
      "cigs_per_day        0.778975      cigs_per_day\n",
      "heart_rate          0.015303        heart_rate\n"
     ]
    },
    {
     "data": {
      "text/plain": [
       "<AxesSubplot:>"
      ]
     },
     "execution_count": 115,
     "metadata": {},
     "output_type": "execute_result"
    },
    {
     "data": {
      "image/png": "[encoded data removed]",
      "text/plain": [
       "<Figure size 432x288 with 1 Axes>"
      ]
     },
     "metadata": {
      "needs_background": "light"
     },
     "output_type": "display_data"
    }
   ],
   "source": [
    "#Printing and Plotting Feature scores\n",
    "# Code reference: https://stackoverflow.com/questions/41900387/mapping-column-names-to-random-forest-feature-importances\n",
    "scores = list(zip(fs.scores_,X.columns))\n",
    "scores.sort(reverse=True)\n",
    "scores_df = pd.DataFrame(scores, index=[x for (_,x) in scores])\n",
    "print(scores_df)\n",
    "scores_df.plot(kind = 'bar')"
   ]
  },
  {
   "cell_type": "code",
   "execution_count": 116,
   "metadata": {},
   "outputs": [
    {
     "data": {
      "text/html": [
       "<div>\n",
       "<style scoped>\n",
       "    .dataframe tbody tr th:only-of-type {\n",
       "        vertical-align: middle;\n",
       "    }\n",
       "\n",
       "    .dataframe tbody tr th {\n",
       "        vertical-align: top;\n",
       "    }\n",
       "\n",
       "    .dataframe thead th {\n",
       "        text-align: right;\n",
       "    }\n",
       "</style>\n",
       "<table border=\"1\" class=\"dataframe\">\n",
       "  <thead>\n",
       "    <tr style=\"text-align: right;\">\n",
       "      <th></th>\n",
       "      <th>age</th>\n",
       "      <th>bp_meds</th>\n",
       "      <th>prevalent_hyp</th>\n",
       "      <th>diabetes</th>\n",
       "      <th>tot_chol</th>\n",
       "      <th>sys_bp</th>\n",
       "      <th>dia_bp</th>\n",
       "      <th>bmi</th>\n",
       "      <th>glucose</th>\n",
       "      <th>ten_year_chd</th>\n",
       "    </tr>\n",
       "  </thead>\n",
       "  <tbody>\n",
       "    <tr>\n",
       "      <th>0</th>\n",
       "      <td>46</td>\n",
       "      <td>0.0</td>\n",
       "      <td>0</td>\n",
       "      <td>0</td>\n",
       "      <td>250.0</td>\n",
       "      <td>121.0</td>\n",
       "      <td>81.0</td>\n",
       "      <td>28.73</td>\n",
       "      <td>76.0</td>\n",
       "      <td>0</td>\n",
       "    </tr>\n",
       "    <tr>\n",
       "      <th>1</th>\n",
       "      <td>61</td>\n",
       "      <td>0.0</td>\n",
       "      <td>1</td>\n",
       "      <td>0</td>\n",
       "      <td>225.0</td>\n",
       "      <td>150.0</td>\n",
       "      <td>95.0</td>\n",
       "      <td>28.58</td>\n",
       "      <td>103.0</td>\n",
       "      <td>1</td>\n",
       "    </tr>\n",
       "    <tr>\n",
       "      <th>2</th>\n",
       "      <td>46</td>\n",
       "      <td>0.0</td>\n",
       "      <td>0</td>\n",
       "      <td>0</td>\n",
       "      <td>285.0</td>\n",
       "      <td>130.0</td>\n",
       "      <td>84.0</td>\n",
       "      <td>23.10</td>\n",
       "      <td>85.0</td>\n",
       "      <td>0</td>\n",
       "    </tr>\n",
       "    <tr>\n",
       "      <th>3</th>\n",
       "      <td>43</td>\n",
       "      <td>0.0</td>\n",
       "      <td>1</td>\n",
       "      <td>0</td>\n",
       "      <td>228.0</td>\n",
       "      <td>180.0</td>\n",
       "      <td>110.0</td>\n",
       "      <td>30.30</td>\n",
       "      <td>99.0</td>\n",
       "      <td>0</td>\n",
       "    </tr>\n",
       "    <tr>\n",
       "      <th>4</th>\n",
       "      <td>63</td>\n",
       "      <td>0.0</td>\n",
       "      <td>0</td>\n",
       "      <td>0</td>\n",
       "      <td>205.0</td>\n",
       "      <td>138.0</td>\n",
       "      <td>71.0</td>\n",
       "      <td>33.11</td>\n",
       "      <td>85.0</td>\n",
       "      <td>1</td>\n",
       "    </tr>\n",
       "    <tr>\n",
       "      <th>...</th>\n",
       "      <td>...</td>\n",
       "      <td>...</td>\n",
       "      <td>...</td>\n",
       "      <td>...</td>\n",
       "      <td>...</td>\n",
       "      <td>...</td>\n",
       "      <td>...</td>\n",
       "      <td>...</td>\n",
       "      <td>...</td>\n",
       "      <td>...</td>\n",
       "    </tr>\n",
       "    <tr>\n",
       "      <th>2029</th>\n",
       "      <td>59</td>\n",
       "      <td>0.0</td>\n",
       "      <td>0</td>\n",
       "      <td>0</td>\n",
       "      <td>251.0</td>\n",
       "      <td>125.0</td>\n",
       "      <td>80.0</td>\n",
       "      <td>22.18</td>\n",
       "      <td>70.0</td>\n",
       "      <td>0</td>\n",
       "    </tr>\n",
       "    <tr>\n",
       "      <th>2030</th>\n",
       "      <td>63</td>\n",
       "      <td>0.0</td>\n",
       "      <td>1</td>\n",
       "      <td>0</td>\n",
       "      <td>266.0</td>\n",
       "      <td>167.0</td>\n",
       "      <td>94.0</td>\n",
       "      <td>25.23</td>\n",
       "      <td>94.0</td>\n",
       "      <td>0</td>\n",
       "    </tr>\n",
       "    <tr>\n",
       "      <th>2031</th>\n",
       "      <td>52</td>\n",
       "      <td>0.0</td>\n",
       "      <td>0</td>\n",
       "      <td>0</td>\n",
       "      <td>265.0</td>\n",
       "      <td>137.5</td>\n",
       "      <td>84.5</td>\n",
       "      <td>26.91</td>\n",
       "      <td>86.0</td>\n",
       "      <td>0</td>\n",
       "    </tr>\n",
       "    <tr>\n",
       "      <th>2032</th>\n",
       "      <td>50</td>\n",
       "      <td>0.0</td>\n",
       "      <td>1</td>\n",
       "      <td>1</td>\n",
       "      <td>260.0</td>\n",
       "      <td>190.0</td>\n",
       "      <td>130.0</td>\n",
       "      <td>43.67</td>\n",
       "      <td>260.0</td>\n",
       "      <td>0</td>\n",
       "    </tr>\n",
       "    <tr>\n",
       "      <th>2033</th>\n",
       "      <td>52</td>\n",
       "      <td>0.0</td>\n",
       "      <td>0</td>\n",
       "      <td>0</td>\n",
       "      <td>269.0</td>\n",
       "      <td>133.5</td>\n",
       "      <td>83.0</td>\n",
       "      <td>21.47</td>\n",
       "      <td>107.0</td>\n",
       "      <td>0</td>\n",
       "    </tr>\n",
       "  </tbody>\n",
       "</table>\n",
       "<p>2032 rows × 10 columns</p>\n",
       "</div>"
      ],
      "text/plain": [
       "      age  bp_meds  prevalent_hyp  diabetes  tot_chol  sys_bp  dia_bp    bmi  \\\n",
       "0      46      0.0              0         0     250.0   121.0    81.0  28.73   \n",
       "1      61      0.0              1         0     225.0   150.0    95.0  28.58   \n",
       "2      46      0.0              0         0     285.0   130.0    84.0  23.10   \n",
       "3      43      0.0              1         0     228.0   180.0   110.0  30.30   \n",
       "4      63      0.0              0         0     205.0   138.0    71.0  33.11   \n",
       "...   ...      ...            ...       ...       ...     ...     ...    ...   \n",
       "2029   59      0.0              0         0     251.0   125.0    80.0  22.18   \n",
       "2030   63      0.0              1         0     266.0   167.0    94.0  25.23   \n",
       "2031   52      0.0              0         0     265.0   137.5    84.5  26.91   \n",
       "2032   50      0.0              1         1     260.0   190.0   130.0  43.67   \n",
       "2033   52      0.0              0         0     269.0   133.5    83.0  21.47   \n",
       "\n",
       "      glucose  ten_year_chd  \n",
       "0        76.0             0  \n",
       "1       103.0             1  \n",
       "2        85.0             0  \n",
       "3        99.0             0  \n",
       "4        85.0             1  \n",
       "...       ...           ...  \n",
       "2029     70.0             0  \n",
       "2030     94.0             0  \n",
       "2031     86.0             0  \n",
       "2032    260.0             0  \n",
       "2033    107.0             0  \n",
       "\n",
       "[2032 rows x 10 columns]"
      ]
     },
     "execution_count": 116,
     "metadata": {},
     "output_type": "execute_result"
    }
   ],
   "source": [
    "# Features removed based on EDA and Feature scores\n",
    "chd_mlm_df = newchd_df.drop(columns = [\"prevalent_stroke\",\"heart_rate\",\"education\",\"cigs_per_day\",\"current_smoker\"])\n",
    "chd_mlm_df"
   ]
  },
  {
   "cell_type": "markdown",
   "metadata": {},
   "source": [
    "# Define New X and Y values and Train-Test Split"
   ]
  },
  {
   "cell_type": "code",
   "execution_count": 117,
   "metadata": {},
   "outputs": [],
   "source": [
    "# Defining the X and y values for MLM\n",
    "y = chd_mlm_df[\"ten_year_chd\"]\n",
    "X = chd_mlm_df.drop(columns=[\"ten_year_chd\"])"
   ]
  },
  {
   "cell_type": "code",
   "execution_count": 118,
   "metadata": {},
   "outputs": [
    {
     "name": "stdout",
     "output_type": "stream",
     "text": [
      "(1828, 9)\n",
      "(204, 9)\n"
     ]
    }
   ],
   "source": [
    "# Splitting data into train and test sets\n",
    "from sklearn.model_selection import train_test_split\n",
    "X_train, X_test, y_train, y_test = train_test_split(X,\n",
    "   y, random_state=0, test_size=0.1)\n",
    "print(X_train.shape)\n",
    "print(X_test.shape)"
   ]
  },
  {
   "cell_type": "markdown",
   "metadata": {},
   "source": [
    "# Feature Scaling with Robust Scaler"
   ]
  },
  {
   "cell_type": "code",
   "execution_count": 119,
   "metadata": {},
   "outputs": [],
   "source": [
    "# Applying the Robust Scaler to scale the data\n",
    "from sklearn.preprocessing import RobustScaler\n",
    "scaler = RobustScaler()\n",
    "X_scaler = scaler.fit(X_train)\n",
    "X_train_scaled = X_scaler.transform(X_train)\n",
    "X_test_scaled = X_scaler.transform(X_test)"
   ]
  },
  {
   "cell_type": "markdown",
   "metadata": {},
   "source": [
    "# Predicting Ten year CHD using Logistic Regression model"
   ]
  },
  {
   "cell_type": "code",
   "execution_count": 120,
   "metadata": {},
   "outputs": [],
   "source": [
    "# Defining the model\n",
    "from sklearn.linear_model import LogisticRegression\n",
    "classifier = LogisticRegression()\n",
    "classifier.fit(X_train_scaled, y_train)\n",
    "y_pred = classifier.predict(X_test_scaled)"
   ]
  },
  {
   "cell_type": "code",
   "execution_count": 121,
   "metadata": {},
   "outputs": [
    {
     "name": "stdout",
     "output_type": "stream",
     "text": [
      "Accuracy Score for Logistic regression:\n",
      "0.8774509803921569\n",
      "Confusion Matrix\n",
      "          Predicted 0  Predicted 1\n",
      "Actual 0          178            1\n",
      "Actual 1           24            1\n",
      "Classification report\n",
      "              precision    recall  f1-score   support\n",
      "\n",
      "           0       0.88      0.99      0.93       179\n",
      "           1       0.50      0.04      0.07        25\n",
      "\n",
      "    accuracy                           0.88       204\n",
      "   macro avg       0.69      0.52      0.50       204\n",
      "weighted avg       0.83      0.88      0.83       204\n",
      "\n"
     ]
    }
   ],
   "source": [
    "# Displaying the accuracy score,Confusion Matrix, Classification report\n",
    "from sklearn.metrics import accuracy_score,confusion_matrix, classification_report\n",
    "accuracyScore = accuracy_score(y_test, y_pred)\n",
    "print(\"Accuracy Score for Logistic regression:\")\n",
    "print(accuracyScore)\n",
    "matrix = confusion_matrix(y_test, y_pred)\n",
    "# Create a DataFrame from the confusion matrix.\n",
    "cm_df = pd.DataFrame(\n",
    "    matrix, index=[\"Actual 0\", \"Actual 1\"], columns=[\"Predicted 0\", \"Predicted 1\"])\n",
    "print(\"Confusion Matrix\")\n",
    "print(cm_df)\n",
    "report = classification_report(y_test, y_pred)\n",
    "print(\"Classification report\")\n",
    "print(report)"
   ]
  },
  {
   "cell_type": "markdown",
   "metadata": {},
   "source": [
    "# Logistic Regression with Balanced Class weights"
   ]
  },
  {
   "cell_type": "code",
   "execution_count": 47,
   "metadata": {},
   "outputs": [],
   "source": [
    "# Defining the model\n",
    "from sklearn.linear_model import LogisticRegression\n",
    "classifier = LogisticRegression(solver='liblinear', random_state=1, class_weight='balanced')\n",
    "classifier.fit(X_train_scaled, y_train)\n",
    "y_pred = classifier.predict(X_test_scaled)"
   ]
  },
  {
   "cell_type": "code",
   "execution_count": 48,
   "metadata": {},
   "outputs": [
    {
     "name": "stdout",
     "output_type": "stream",
     "text": [
      "Accuracy Score for Logistic regression:\n",
      "0.7002457002457002\n",
      "Confusion Matrix\n",
      "          Predicted 0  Predicted 1\n",
      "Actual 0          251          106\n",
      "Actual 1           16           34\n",
      "Classification report\n",
      "              precision    recall  f1-score   support\n",
      "\n",
      "           0       0.94      0.70      0.80       357\n",
      "           1       0.24      0.68      0.36        50\n",
      "\n",
      "    accuracy                           0.70       407\n",
      "   macro avg       0.59      0.69      0.58       407\n",
      "weighted avg       0.85      0.70      0.75       407\n",
      "\n"
     ]
    }
   ],
   "source": [
    "# Displaying the accuracy score,Confusion Matrix, Classification report\n",
    "from sklearn.metrics import accuracy_score,confusion_matrix, classification_report\n",
    "accuracyScore = accuracy_score(y_test, y_pred)\n",
    "print(\"Accuracy Score for Logistic regression:\")\n",
    "print(accuracyScore)\n",
    "matrix = confusion_matrix(y_test, y_pred)\n",
    "# Create a DataFrame from the confusion matrix.\n",
    "cm_df = pd.DataFrame(\n",
    "    matrix, index=[\"Actual 0\", \"Actual 1\"], columns=[\"Predicted 0\", \"Predicted 1\"])\n",
    "print(\"Confusion Matrix\")\n",
    "print(cm_df)\n",
    "report = classification_report(y_test, y_pred)\n",
    "print(\"Classification report\")\n",
    "print(report)"
   ]
  },
  {
   "cell_type": "markdown",
   "metadata": {},
   "source": [
    "# Moving Threshold to address imbalanced classification"
   ]
  },
  {
   "cell_type": "code",
   "execution_count": 49,
   "metadata": {},
   "outputs": [
    {
     "name": "stdout",
     "output_type": "stream",
     "text": [
      "Best Threshold=0.116918, G-Mean=0.699\n"
     ]
    },
    {
     "data": {
      "image/png": "[encoded data removed]",
      "text/plain": [
       "<Figure size 432x288 with 1 Axes>"
      ]
     },
     "metadata": {
      "needs_background": "light"
     },
     "output_type": "display_data"
    }
   ],
   "source": [
    "#Code reference: https://machinelearningmastery.com/threshold-moving-for-imbalanced-classification/\n",
    "# Making an roc curve for Logistic Regression Model\n",
    "from sklearn.metrics import roc_curve\n",
    "classifier = LogisticRegression(solver='lbfgs', random_state=1)\n",
    "classifier.fit(X_train_scaled, y_train)\n",
    "# predict probabilities\n",
    "yhat = classifier.predict_proba(X_test_scaled)\n",
    "# keep probabilities for the positive outcome only\n",
    "yhat = yhat[:, 1]\n",
    "# calculate roc curves\n",
    "fpr, tpr, thresholds = roc_curve(y_test, yhat)\n",
    "# calculate the g-mean for each threshold\n",
    "gmeans = np.sqrt(tpr * (1-fpr))\n",
    "# locate the index of the largest g-mean\n",
    "ix = np.argmax(gmeans)\n",
    "print('Best Threshold=%f, G-Mean=%.3f' % (thresholds[ix], gmeans[ix]))\n",
    "# plot the roc curve for the model\n",
    "plt.plot([0,1], [0,1], linestyle='--', label='No Skill')\n",
    "plt.plot(fpr, tpr, marker='.', label='Logistic')\n",
    "# axis labels\n",
    "plt.xlabel('False Positive Rate')\n",
    "plt.ylabel('True Positive Rate')\n",
    "plt.legend()\n",
    "# show the plot\n",
    "plt.show()"
   ]
  },
  {
   "cell_type": "code",
   "execution_count": 50,
   "metadata": {},
   "outputs": [],
   "source": [
    "#Code reference: \n",
    "# predict probabilities\n",
    "ypred = (classifier.predict_proba(X_test_scaled)[:,1]>=0.116918).astype(int)"
   ]
  },
  {
   "cell_type": "code",
   "execution_count": 51,
   "metadata": {},
   "outputs": [
    {
     "name": "stdout",
     "output_type": "stream",
     "text": [
      "Accuracy Score for Logistic regression:\n",
      "0.6953316953316954\n",
      "Confusion Matrix\n",
      "          Predicted 0  Predicted 1\n",
      "Actual 0          249          108\n",
      "Actual 1           16           34\n",
      "Classification report\n",
      "              precision    recall  f1-score   support\n",
      "\n",
      "           0       0.94      0.70      0.80       357\n",
      "           1       0.24      0.68      0.35        50\n",
      "\n",
      "    accuracy                           0.70       407\n",
      "   macro avg       0.59      0.69      0.58       407\n",
      "weighted avg       0.85      0.70      0.75       407\n",
      "\n"
     ]
    }
   ],
   "source": [
    "# Displaying the accuracy score,Confusion Matrix, Classification report\n",
    "from sklearn.metrics import accuracy_score,confusion_matrix, classification_report\n",
    "accuracyScore = accuracy_score(y_test, ypred)\n",
    "print(\"Accuracy Score for Logistic regression:\")\n",
    "print(accuracyScore)\n",
    "matrix = confusion_matrix(y_test, ypred)\n",
    "# Create a DataFrame from the confusion matrix.\n",
    "cm_df = pd.DataFrame(\n",
    "    matrix, index=[\"Actual 0\", \"Actual 1\"], columns=[\"Predicted 0\", \"Predicted 1\"])\n",
    "print(\"Confusion Matrix\")\n",
    "print(cm_df)\n",
    "report = classification_report(y_test, ypred)\n",
    "print(\"Classification report\")\n",
    "print(report)"
   ]
  },
  {
   "cell_type": "markdown",
   "metadata": {},
   "source": [
    "# Support Vector Model"
   ]
  },
  {
   "cell_type": "code",
   "execution_count": 52,
   "metadata": {},
   "outputs": [],
   "source": [
    "# Defining the model\n",
    "from sklearn.svm import SVC\n",
    "model = SVC(kernel='linear')\n",
    "model.fit(X_train_scaled, y_train)\n",
    "y_pred = model.predict(X_test_scaled)"
   ]
  },
  {
   "cell_type": "code",
   "execution_count": 53,
   "metadata": {},
   "outputs": [
    {
     "name": "stdout",
     "output_type": "stream",
     "text": [
      "Accuracy Score for Support Vector Model:\n",
      "0.8771498771498771\n",
      "Confusion Matrix\n",
      "          Predicted 0  Predicted 1\n",
      "Actual 0          357            0\n",
      "Actual 1           50            0\n",
      "Classification report\n",
      "              precision    recall  f1-score   support\n",
      "\n",
      "           0       0.88      1.00      0.93       357\n",
      "           1       0.00      0.00      0.00        50\n",
      "\n",
      "    accuracy                           0.88       407\n",
      "   macro avg       0.44      0.50      0.47       407\n",
      "weighted avg       0.77      0.88      0.82       407\n",
      "\n"
     ]
    },
    {
     "name": "stderr",
     "output_type": "stream",
     "text": [
      "/Users/njraman/opt/anaconda3/envs/mlenv/lib/python3.7/site-packages/sklearn/metrics/_classification.py:1245: UndefinedMetricWarning: Precision and F-score are ill-defined and being set to 0.0 in labels with no predicted samples. Use `zero_division` parameter to control this behavior.\n",
      "  _warn_prf(average, modifier, msg_start, len(result))\n",
      "/Users/njraman/opt/anaconda3/envs/mlenv/lib/python3.7/site-packages/sklearn/metrics/_classification.py:1245: UndefinedMetricWarning: Precision and F-score are ill-defined and being set to 0.0 in labels with no predicted samples. Use `zero_division` parameter to control this behavior.\n",
      "  _warn_prf(average, modifier, msg_start, len(result))\n",
      "/Users/njraman/opt/anaconda3/envs/mlenv/lib/python3.7/site-packages/sklearn/metrics/_classification.py:1245: UndefinedMetricWarning: Precision and F-score are ill-defined and being set to 0.0 in labels with no predicted samples. Use `zero_division` parameter to control this behavior.\n",
      "  _warn_prf(average, modifier, msg_start, len(result))\n"
     ]
    }
   ],
   "source": [
    "# Displaying the accuracy score,Confusion Matrix, Classification report\n",
    "from sklearn.metrics import accuracy_score,confusion_matrix, classification_report\n",
    "accuracyScore = accuracy_score(y_test, y_pred)\n",
    "print(\"Accuracy Score for Support Vector Model:\")\n",
    "print(accuracyScore)\n",
    "matrix = confusion_matrix(y_test, y_pred)\n",
    "# Create a DataFrame from the confusion matrix.\n",
    "cm_df = pd.DataFrame(\n",
    "    matrix, index=[\"Actual 0\", \"Actual 1\"], columns=[\"Predicted 0\", \"Predicted 1\"])\n",
    "print(\"Confusion Matrix\")\n",
    "print(cm_df)\n",
    "report = classification_report(y_test, y_pred)\n",
    "print(\"Classification report\")\n",
    "print(report)"
   ]
  },
  {
   "cell_type": "markdown",
   "metadata": {},
   "source": [
    "# Decision Tree Model"
   ]
  },
  {
   "cell_type": "code",
   "execution_count": 54,
   "metadata": {},
   "outputs": [],
   "source": [
    "from sklearn.tree import DecisionTreeClassifier\n",
    "# Creating the decision tree classifier instance.\n",
    "model = DecisionTreeClassifier()\n",
    "# Fitting the model.\n",
    "model = model.fit(X_train_scaled, y_train)\n",
    "#Predicting y values\n",
    "y_pred = model.predict(X_test_scaled)"
   ]
  },
  {
   "cell_type": "code",
   "execution_count": 55,
   "metadata": {},
   "outputs": [
    {
     "name": "stdout",
     "output_type": "stream",
     "text": [
      "Accuracy Score for Decision Tree Model:\n",
      "0.7886977886977887\n",
      "Confusion Matrix\n",
      "          Predicted 0  Predicted 1\n",
      "Actual 0          314           43\n",
      "Actual 1           43            7\n",
      "Classification report\n",
      "              precision    recall  f1-score   support\n",
      "\n",
      "           0       0.88      0.88      0.88       357\n",
      "           1       0.14      0.14      0.14        50\n",
      "\n",
      "    accuracy                           0.79       407\n",
      "   macro avg       0.51      0.51      0.51       407\n",
      "weighted avg       0.79      0.79      0.79       407\n",
      "\n"
     ]
    }
   ],
   "source": [
    "# Displaying the accuracy score,Confusion Matrix, Classification report\n",
    "from sklearn.metrics import accuracy_score,confusion_matrix, classification_report\n",
    "accuracyScore = accuracy_score(y_test, y_pred)\n",
    "print(\"Accuracy Score for Decision Tree Model:\")\n",
    "print(accuracyScore)\n",
    "matrix = confusion_matrix(y_test, y_pred)\n",
    "# Create a DataFrame from the confusion matrix.\n",
    "cm_df = pd.DataFrame(\n",
    "    matrix, index=[\"Actual 0\", \"Actual 1\"], columns=[\"Predicted 0\", \"Predicted 1\"])\n",
    "print(\"Confusion Matrix\")\n",
    "print(cm_df)\n",
    "report = classification_report(y_test, y_pred)\n",
    "print(\"Classification report\")\n",
    "print(report)"
   ]
  },
  {
   "cell_type": "markdown",
   "metadata": {},
   "source": [
    "# Decision Tree Model with balanced Class Weight"
   ]
  },
  {
   "cell_type": "code",
   "execution_count": 56,
   "metadata": {},
   "outputs": [],
   "source": [
    "from sklearn.tree import DecisionTreeClassifier\n",
    "# Creating the decision tree classifier instance.\n",
    "model = DecisionTreeClassifier(class_weight=\"balanced\")\n",
    "# Fitting the model.\n",
    "model = model.fit(X_train_scaled, y_train)\n",
    "#Predicting y values\n",
    "y_pred = model.predict(X_test_scaled)"
   ]
  },
  {
   "cell_type": "code",
   "execution_count": 57,
   "metadata": {},
   "outputs": [
    {
     "name": "stdout",
     "output_type": "stream",
     "text": [
      "Accuracy Score for Decision Tree Model:\n",
      "0.8034398034398035\n",
      "Confusion Matrix\n",
      "          Predicted 0  Predicted 1\n",
      "Actual 0          320           37\n",
      "Actual 1           43            7\n",
      "Classification report\n",
      "              precision    recall  f1-score   support\n",
      "\n",
      "           0       0.88      0.90      0.89       357\n",
      "           1       0.16      0.14      0.15        50\n",
      "\n",
      "    accuracy                           0.80       407\n",
      "   macro avg       0.52      0.52      0.52       407\n",
      "weighted avg       0.79      0.80      0.80       407\n",
      "\n"
     ]
    }
   ],
   "source": [
    "# Displaying the accuracy score,Confusion Matrix, Classification report\n",
    "from sklearn.metrics import accuracy_score,confusion_matrix, classification_report\n",
    "accuracyScore = accuracy_score(y_test, y_pred)\n",
    "print(\"Accuracy Score for Decision Tree Model:\")\n",
    "print(accuracyScore)\n",
    "matrix = confusion_matrix(y_test, y_pred)\n",
    "# Create a DataFrame from the confusion matrix.\n",
    "cm_df = pd.DataFrame(\n",
    "    matrix, index=[\"Actual 0\", \"Actual 1\"], columns=[\"Predicted 0\", \"Predicted 1\"])\n",
    "print(\"Confusion Matrix\")\n",
    "print(cm_df)\n",
    "report = classification_report(y_test, y_pred)\n",
    "print(\"Classification report\")\n",
    "print(report)"
   ]
  },
  {
   "cell_type": "markdown",
   "metadata": {},
   "source": [
    "# Random Forest method"
   ]
  },
  {
   "cell_type": "code",
   "execution_count": 58,
   "metadata": {},
   "outputs": [],
   "source": [
    "from sklearn.ensemble import RandomForestClassifier\n",
    "# Creating the decision tree classifier instance.\n",
    "model = RandomForestClassifier(n_estimators=128, random_state=78) \n",
    "# Fitting the model.\n",
    "model = model.fit(X_train_scaled, y_train)\n",
    "#Predicting y values\n",
    "y_pred = model.predict(X_test_scaled)"
   ]
  },
  {
   "cell_type": "code",
   "execution_count": 59,
   "metadata": {},
   "outputs": [
    {
     "name": "stdout",
     "output_type": "stream",
     "text": [
      "Accuracy Score for Random Forest Model:\n",
      "0.85995085995086\n",
      "Confusion Matrix\n",
      "          Predicted 0  Predicted 1\n",
      "Actual 0          349            8\n",
      "Actual 1           49            1\n",
      "Classification report\n",
      "              precision    recall  f1-score   support\n",
      "\n",
      "           0       0.88      0.98      0.92       357\n",
      "           1       0.11      0.02      0.03        50\n",
      "\n",
      "    accuracy                           0.86       407\n",
      "   macro avg       0.49      0.50      0.48       407\n",
      "weighted avg       0.78      0.86      0.82       407\n",
      "\n"
     ]
    }
   ],
   "source": [
    "# Displaying the accuracy score,Confusion Matrix, Classification report\n",
    "from sklearn.metrics import accuracy_score,confusion_matrix, classification_report\n",
    "accuracyScore = accuracy_score(y_test, y_pred)\n",
    "print(\"Accuracy Score for Random Forest Model:\")\n",
    "print(accuracyScore)\n",
    "matrix = confusion_matrix(y_test, y_pred)\n",
    "# Create a DataFrame from the confusion matrix.\n",
    "cm_df = pd.DataFrame(\n",
    "    matrix, index=[\"Actual 0\", \"Actual 1\"], columns=[\"Predicted 0\", \"Predicted 1\"])\n",
    "print(\"Confusion Matrix\")\n",
    "print(cm_df)\n",
    "report = classification_report(y_test, y_pred)\n",
    "print(\"Classification report\")\n",
    "print(report)"
   ]
  },
  {
   "cell_type": "markdown",
   "metadata": {},
   "source": [
    "# Gradient Boosting Model"
   ]
  },
  {
   "cell_type": "code",
   "execution_count": 60,
   "metadata": {},
   "outputs": [],
   "source": [
    "from sklearn.ensemble import GradientBoostingClassifier\n",
    "classifier = GradientBoostingClassifier(n_estimators=20,\n",
    "   learning_rate=0.5, max_features=5, max_depth=3, random_state=0)\n",
    "\n",
    "classifier.fit(X_train_scaled, y_train)\n",
    "y_pred = classifier.predict(X_test_scaled)"
   ]
  },
  {
   "cell_type": "code",
   "execution_count": 61,
   "metadata": {},
   "outputs": [
    {
     "name": "stdout",
     "output_type": "stream",
     "text": [
      "Accuracy Score for Gradient Boosting Model:\n",
      "0.8378378378378378\n",
      "Confusion Matrix\n",
      "          Predicted 0  Predicted 1\n",
      "Actual 0          337           20\n",
      "Actual 1           46            4\n",
      "Classification report\n",
      "              precision    recall  f1-score   support\n",
      "\n",
      "           0       0.88      0.94      0.91       357\n",
      "           1       0.17      0.08      0.11        50\n",
      "\n",
      "    accuracy                           0.84       407\n",
      "   macro avg       0.52      0.51      0.51       407\n",
      "weighted avg       0.79      0.84      0.81       407\n",
      "\n"
     ]
    }
   ],
   "source": [
    "# Displaying the accuracy score,Confusion Matrix, Classification report\n",
    "from sklearn.metrics import accuracy_score,confusion_matrix, classification_report\n",
    "accuracyScore = accuracy_score(y_test, y_pred)\n",
    "print(\"Accuracy Score for Gradient Boosting Model:\")\n",
    "print(accuracyScore)\n",
    "matrix = confusion_matrix(y_test, y_pred)\n",
    "# Create a DataFrame from the confusion matrix.\n",
    "cm_df = pd.DataFrame(\n",
    "    matrix, index=[\"Actual 0\", \"Actual 1\"], columns=[\"Predicted 0\", \"Predicted 1\"])\n",
    "print(\"Confusion Matrix\")\n",
    "print(cm_df)\n",
    "report = classification_report(y_test, y_pred)\n",
    "print(\"Classification report\")\n",
    "print(report)"
   ]
  },
  {
   "cell_type": "markdown",
   "metadata": {},
   "source": [
    "# Resampling - Oversampling"
   ]
  },
  {
   "cell_type": "code",
   "execution_count": 105,
   "metadata": {},
   "outputs": [],
   "source": [
    "from imblearn.over_sampling import RandomOverSampler\n",
    "ros = RandomOverSampler(random_state=1)\n",
    "X_resampled, y_resampled = ros.fit_resample(X_train_scaled, y_train)\n"
   ]
  },
  {
   "cell_type": "markdown",
   "metadata": {},
   "source": [
    "# Logistic Regression"
   ]
  },
  {
   "cell_type": "code",
   "execution_count": 122,
   "metadata": {},
   "outputs": [],
   "source": [
    "classifier = LogisticRegression()\n",
    "classifier.fit(X_resampled, y_resampled)\n",
    "y_pred = classifier.predict(X_test_scaled)"
   ]
  },
  {
   "cell_type": "code",
   "execution_count": 107,
   "metadata": {},
   "outputs": [
    {
     "name": "stdout",
     "output_type": "stream",
     "text": [
      "Accuracy Score for Logistic regression:\n",
      "0.6483317595215612\n",
      "Confusion Matrix\n",
      "          Predicted 0  Predicted 1\n",
      "Actual 0          242          111\n",
      "Actual 1           21           33\n",
      "Classification report\n",
      "                   pre       rec       spe        f1       geo       iba       sup\n",
      "\n",
      "          0       0.92      0.69      0.61      0.79      0.65      0.42       353\n",
      "          1       0.23      0.61      0.69      0.33      0.65      0.42        54\n",
      "\n",
      "avg / total       0.83      0.68      0.62      0.73      0.65      0.42       407\n",
      "\n"
     ]
    }
   ],
   "source": [
    "# Displaying the accuracy score,Confusion Matrix, Classification report\n",
    "from sklearn.metrics import balanced_accuracy_score,confusion_matrix\n",
    "from imblearn.metrics import classification_report_imbalanced\n",
    "accuracyScore = balanced_accuracy_score(y_test, y_pred)\n",
    "print(\"Accuracy Score for Logistic regression:\")\n",
    "print(accuracyScore)\n",
    "matrix = confusion_matrix(y_test, y_pred)\n",
    "# Create a DataFrame from the confusion matrix.\n",
    "cm_df = pd.DataFrame(\n",
    "    matrix, index=[\"Actual 0\", \"Actual 1\"], columns=[\"Predicted 0\", \"Predicted 1\"])\n",
    "print(\"Confusion Matrix\")\n",
    "print(cm_df)\n",
    "report = classification_report_imbalanced(y_test, y_pred)\n",
    "print(\"Classification report\")\n",
    "print(report)"
   ]
  },
  {
   "cell_type": "markdown",
   "metadata": {},
   "source": [
    "# Decision Tree Model"
   ]
  },
  {
   "cell_type": "code",
   "execution_count": 65,
   "metadata": {},
   "outputs": [],
   "source": [
    "from sklearn.tree import DecisionTreeClassifier\n",
    "# Creating the decision tree classifier instance.\n",
    "model = DecisionTreeClassifier()\n",
    "# Fitting the model.\n",
    "model = model.fit(X_resampled, y_resampled)\n",
    "#Predicting y values\n",
    "y_pred = model.predict(X_test_scaled)"
   ]
  },
  {
   "cell_type": "code",
   "execution_count": 66,
   "metadata": {},
   "outputs": [
    {
     "name": "stdout",
     "output_type": "stream",
     "text": [
      "Accuracy Score for Logistic regression:\n",
      "0.598375350140056\n",
      "Confusion Matrix\n",
      "          Predicted 0  Predicted 1\n",
      "Actual 0          313           44\n",
      "Actual 1           34           16\n",
      "Classification report\n",
      "                   pre       rec       spe        f1       geo       iba       sup\n",
      "\n",
      "          0       0.90      0.88      0.32      0.89      0.53      0.30       357\n",
      "          1       0.27      0.32      0.88      0.29      0.53      0.26        50\n",
      "\n",
      "avg / total       0.82      0.81      0.39      0.82      0.53      0.29       407\n",
      "\n"
     ]
    }
   ],
   "source": [
    "# Displaying the accuracy score,Confusion Matrix, Classification report\n",
    "from sklearn.metrics import balanced_accuracy_score,confusion_matrix\n",
    "from imblearn.metrics import classification_report_imbalanced\n",
    "accuracyScore = balanced_accuracy_score(y_test, y_pred)\n",
    "print(\"Accuracy Score for Logistic regression:\")\n",
    "print(accuracyScore)\n",
    "matrix = confusion_matrix(y_test, y_pred)\n",
    "# Create a DataFrame from the confusion matrix.\n",
    "cm_df = pd.DataFrame(\n",
    "    matrix, index=[\"Actual 0\", \"Actual 1\"], columns=[\"Predicted 0\", \"Predicted 1\"])\n",
    "print(\"Confusion Matrix\")\n",
    "print(cm_df)\n",
    "report = classification_report_imbalanced(y_test, y_pred)\n",
    "print(\"Classification report\")\n",
    "print(report)"
   ]
  },
  {
   "cell_type": "markdown",
   "metadata": {},
   "source": [
    "# Random Forest method"
   ]
  },
  {
   "cell_type": "code",
   "execution_count": 67,
   "metadata": {},
   "outputs": [],
   "source": [
    "from sklearn.ensemble import RandomForestClassifier\n",
    "# Creating the decision tree classifier instance.\n",
    "model = RandomForestClassifier(n_estimators=128, random_state=78) \n",
    "# Fitting the model.\n",
    "model = model.fit(X_resampled, y_resampled)\n",
    "#Predicting y values\n",
    "y_pred = model.predict(X_test_scaled)"
   ]
  },
  {
   "cell_type": "code",
   "execution_count": 68,
   "metadata": {},
   "outputs": [
    {
     "name": "stdout",
     "output_type": "stream",
     "text": [
      "Accuracy Score for Random Forest Model:\n",
      "0.8525798525798526\n",
      "Confusion Matrix\n",
      "          Predicted 0  Predicted 1\n",
      "Actual 0          344           13\n",
      "Actual 1           47            3\n",
      "Classification report\n",
      "              precision    recall  f1-score   support\n",
      "\n",
      "           0       0.88      0.96      0.92       357\n",
      "           1       0.19      0.06      0.09        50\n",
      "\n",
      "    accuracy                           0.85       407\n",
      "   macro avg       0.53      0.51      0.51       407\n",
      "weighted avg       0.79      0.85      0.82       407\n",
      "\n"
     ]
    }
   ],
   "source": [
    "# Displaying the accuracy score,Confusion Matrix, Classification report\n",
    "from sklearn.metrics import accuracy_score,confusion_matrix, classification_report\n",
    "accuracyScore = accuracy_score(y_test, y_pred)\n",
    "print(\"Accuracy Score for Random Forest Model:\")\n",
    "print(accuracyScore)\n",
    "matrix = confusion_matrix(y_test, y_pred)\n",
    "# Create a DataFrame from the confusion matrix.\n",
    "cm_df = pd.DataFrame(\n",
    "    matrix, index=[\"Actual 0\", \"Actual 1\"], columns=[\"Predicted 0\", \"Predicted 1\"])\n",
    "print(\"Confusion Matrix\")\n",
    "print(cm_df)\n",
    "report = classification_report(y_test, y_pred)\n",
    "print(\"Classification report\")\n",
    "print(report)"
   ]
  },
  {
   "cell_type": "markdown",
   "metadata": {},
   "source": [
    "# Gradient Boosting Method"
   ]
  },
  {
   "cell_type": "code",
   "execution_count": 69,
   "metadata": {},
   "outputs": [],
   "source": [
    "from sklearn.ensemble import GradientBoostingClassifier\n",
    "classifier = GradientBoostingClassifier(n_estimators=20,\n",
    "   learning_rate=0.5, max_features=5, max_depth=3, random_state=0)\n",
    "\n",
    "classifier.fit(X_resampled, y_resampled)\n",
    "y_pred = classifier.predict(X_test_scaled)"
   ]
  },
  {
   "cell_type": "code",
   "execution_count": 70,
   "metadata": {},
   "outputs": [
    {
     "name": "stdout",
     "output_type": "stream",
     "text": [
      "Accuracy Score for Gradient Boosting Model:\n",
      "0.7223587223587223\n",
      "Confusion Matrix\n",
      "          Predicted 0  Predicted 1\n",
      "Actual 0          277           80\n",
      "Actual 1           33           17\n",
      "Classification report\n",
      "              precision    recall  f1-score   support\n",
      "\n",
      "           0       0.89      0.78      0.83       357\n",
      "           1       0.18      0.34      0.23        50\n",
      "\n",
      "    accuracy                           0.72       407\n",
      "   macro avg       0.53      0.56      0.53       407\n",
      "weighted avg       0.81      0.72      0.76       407\n",
      "\n"
     ]
    }
   ],
   "source": [
    "# Displaying the accuracy score,Confusion Matrix, Classification report\n",
    "from sklearn.metrics import accuracy_score,confusion_matrix, classification_report\n",
    "accuracyScore = accuracy_score(y_test, y_pred)\n",
    "print(\"Accuracy Score for Gradient Boosting Model:\")\n",
    "print(accuracyScore)\n",
    "matrix = confusion_matrix(y_test, y_pred)\n",
    "# Create a DataFrame from the confusion matrix.\n",
    "cm_df = pd.DataFrame(\n",
    "    matrix, index=[\"Actual 0\", \"Actual 1\"], columns=[\"Predicted 0\", \"Predicted 1\"])\n",
    "print(\"Confusion Matrix\")\n",
    "print(cm_df)\n",
    "report = classification_report(y_test, y_pred)\n",
    "print(\"Classification report\")\n",
    "print(report)"
   ]
  },
  {
   "cell_type": "markdown",
   "metadata": {},
   "source": [
    "# Resampling - Undersampling"
   ]
  },
  {
   "cell_type": "code",
   "execution_count": 123,
   "metadata": {},
   "outputs": [],
   "source": [
    "from imblearn.under_sampling import RandomUnderSampler\n",
    "ros = RandomUnderSampler(random_state=1)\n",
    "X_resampled, y_resampled = ros.fit_resample(X_train_scaled, y_train)"
   ]
  },
  {
   "cell_type": "markdown",
   "metadata": {},
   "source": [
    "# Logistic Regression"
   ]
  },
  {
   "cell_type": "code",
   "execution_count": 124,
   "metadata": {},
   "outputs": [],
   "source": [
    "classifier = LogisticRegression()\n",
    "classifier.fit(X_resampled, y_resampled)\n",
    "y_pred = classifier.predict(X_test_scaled)"
   ]
  },
  {
   "cell_type": "code",
   "execution_count": 125,
   "metadata": {},
   "outputs": [
    {
     "name": "stdout",
     "output_type": "stream",
     "text": [
      "Accuracy Score for Logistic regression:\n",
      "0.6524022346368715\n",
      "Confusion Matrix\n",
      "          Predicted 0  Predicted 1\n",
      "Actual 0          119           60\n",
      "Actual 1            9           16\n",
      "Classification report\n",
      "                   pre       rec       spe        f1       geo       iba       sup\n",
      "\n",
      "          0       0.93      0.66      0.64      0.78      0.65      0.43       179\n",
      "          1       0.21      0.64      0.66      0.32      0.65      0.42        25\n",
      "\n",
      "avg / total       0.84      0.66      0.64      0.72      0.65      0.43       204\n",
      "\n"
     ]
    }
   ],
   "source": [
    "# Displaying the accuracy score,Confusion Matrix, Classification report\n",
    "from sklearn.metrics import balanced_accuracy_score,confusion_matrix\n",
    "from imblearn.metrics import classification_report_imbalanced\n",
    "accuracyScore = balanced_accuracy_score(y_test, y_pred)\n",
    "print(\"Accuracy Score for Logistic regression:\")\n",
    "print(accuracyScore)\n",
    "matrix = confusion_matrix(y_test, y_pred)\n",
    "# Create a DataFrame from the confusion matrix.\n",
    "cm_df = pd.DataFrame(\n",
    "    matrix, index=[\"Actual 0\", \"Actual 1\"], columns=[\"Predicted 0\", \"Predicted 1\"])\n",
    "print(\"Confusion Matrix\")\n",
    "print(cm_df)\n",
    "report = classification_report_imbalanced(y_test, y_pred)\n",
    "print(\"Classification report\")\n",
    "print(report)"
   ]
  },
  {
   "cell_type": "markdown",
   "metadata": {},
   "source": [
    "# Decision Tree Model"
   ]
  },
  {
   "cell_type": "code",
   "execution_count": 76,
   "metadata": {},
   "outputs": [],
   "source": [
    "from sklearn.tree import DecisionTreeClassifier\n",
    "# Creating the decision tree classifier instance.\n",
    "model = DecisionTreeClassifier()\n",
    "# Fitting the model.\n",
    "model = model.fit(X_resampled, y_resampled)\n",
    "#Predicting y values\n",
    "y_pred = model.predict(X_test_scaled)"
   ]
  },
  {
   "cell_type": "code",
   "execution_count": 77,
   "metadata": {},
   "outputs": [
    {
     "name": "stdout",
     "output_type": "stream",
     "text": [
      "Accuracy Score for Logistic regression:\n",
      "0.5108963585434174\n",
      "Confusion Matrix\n",
      "          Predicted 0  Predicted 1\n",
      "Actual 0          172          185\n",
      "Actual 1           23           27\n",
      "Classification report\n",
      "                   pre       rec       spe        f1       geo       iba       sup\n",
      "\n",
      "          0       0.88      0.48      0.54      0.62      0.51      0.26       357\n",
      "          1       0.13      0.54      0.48      0.21      0.51      0.26        50\n",
      "\n",
      "avg / total       0.79      0.49      0.53      0.57      0.51      0.26       407\n",
      "\n"
     ]
    }
   ],
   "source": [
    "# Displaying the accuracy score,Confusion Matrix, Classification report\n",
    "from sklearn.metrics import balanced_accuracy_score,confusion_matrix\n",
    "from imblearn.metrics import classification_report_imbalanced\n",
    "accuracyScore = balanced_accuracy_score(y_test, y_pred)\n",
    "print(\"Accuracy Score for Logistic regression:\")\n",
    "print(accuracyScore)\n",
    "matrix = confusion_matrix(y_test, y_pred)\n",
    "# Create a DataFrame from the confusion matrix.\n",
    "cm_df = pd.DataFrame(\n",
    "    matrix, index=[\"Actual 0\", \"Actual 1\"], columns=[\"Predicted 0\", \"Predicted 1\"])\n",
    "print(\"Confusion Matrix\")\n",
    "print(cm_df)\n",
    "report = classification_report_imbalanced(y_test, y_pred)\n",
    "print(\"Classification report\")\n",
    "print(report)"
   ]
  },
  {
   "cell_type": "markdown",
   "metadata": {},
   "source": [
    "# Random Forest Method"
   ]
  },
  {
   "cell_type": "code",
   "execution_count": 78,
   "metadata": {},
   "outputs": [],
   "source": [
    "from sklearn.ensemble import RandomForestClassifier\n",
    "# Creating the decision tree classifier instance.\n",
    "model = RandomForestClassifier(n_estimators=128, random_state=78) \n",
    "# Fitting the model.\n",
    "model = model.fit(X_resampled, y_resampled)\n",
    "#Predicting y values\n",
    "y_pred = model.predict(X_test_scaled)"
   ]
  },
  {
   "cell_type": "code",
   "execution_count": 79,
   "metadata": {},
   "outputs": [
    {
     "name": "stdout",
     "output_type": "stream",
     "text": [
      "Accuracy Score for Random Forest Model:\n",
      "0.6412776412776413\n",
      "Confusion Matrix\n",
      "          Predicted 0  Predicted 1\n",
      "Actual 0          230          127\n",
      "Actual 1           19           31\n",
      "Classification report\n",
      "              precision    recall  f1-score   support\n",
      "\n",
      "           0       0.92      0.64      0.76       357\n",
      "           1       0.20      0.62      0.30        50\n",
      "\n",
      "    accuracy                           0.64       407\n",
      "   macro avg       0.56      0.63      0.53       407\n",
      "weighted avg       0.83      0.64      0.70       407\n",
      "\n"
     ]
    }
   ],
   "source": [
    "# Displaying the accuracy score,Confusion Matrix, Classification report\n",
    "from sklearn.metrics import accuracy_score,confusion_matrix, classification_report\n",
    "accuracyScore = accuracy_score(y_test, y_pred)\n",
    "print(\"Accuracy Score for Random Forest Model:\")\n",
    "print(accuracyScore)\n",
    "matrix = confusion_matrix(y_test, y_pred)\n",
    "# Create a DataFrame from the confusion matrix.\n",
    "cm_df = pd.DataFrame(\n",
    "    matrix, index=[\"Actual 0\", \"Actual 1\"], columns=[\"Predicted 0\", \"Predicted 1\"])\n",
    "print(\"Confusion Matrix\")\n",
    "print(cm_df)\n",
    "report = classification_report(y_test, y_pred)\n",
    "print(\"Classification report\")\n",
    "print(report)"
   ]
  },
  {
   "cell_type": "markdown",
   "metadata": {},
   "source": [
    "# Gradient Boosting Method"
   ]
  },
  {
   "cell_type": "code",
   "execution_count": 80,
   "metadata": {},
   "outputs": [],
   "source": [
    "from sklearn.ensemble import GradientBoostingClassifier\n",
    "classifier = GradientBoostingClassifier(n_estimators=20,\n",
    "   learning_rate=0.5, max_features=5, max_depth=3, random_state=0)\n",
    "\n",
    "classifier.fit(X_resampled, y_resampled)\n",
    "y_pred = classifier.predict(X_test_scaled)"
   ]
  },
  {
   "cell_type": "code",
   "execution_count": 81,
   "metadata": {},
   "outputs": [
    {
     "name": "stdout",
     "output_type": "stream",
     "text": [
      "Accuracy Score for Gradient Boosting Model:\n",
      "0.597051597051597\n",
      "Confusion Matrix\n",
      "          Predicted 0  Predicted 1\n",
      "Actual 0          214          143\n",
      "Actual 1           21           29\n",
      "Classification report\n",
      "              precision    recall  f1-score   support\n",
      "\n",
      "           0       0.91      0.60      0.72       357\n",
      "           1       0.17      0.58      0.26        50\n",
      "\n",
      "    accuracy                           0.60       407\n",
      "   macro avg       0.54      0.59      0.49       407\n",
      "weighted avg       0.82      0.60      0.67       407\n",
      "\n"
     ]
    }
   ],
   "source": [
    "# Displaying the accuracy score,Confusion Matrix, Classification report\n",
    "from sklearn.metrics import accuracy_score,confusion_matrix, classification_report\n",
    "accuracyScore = accuracy_score(y_test, y_pred)\n",
    "print(\"Accuracy Score for Gradient Boosting Model:\")\n",
    "print(accuracyScore)\n",
    "matrix = confusion_matrix(y_test, y_pred)\n",
    "# Create a DataFrame from the confusion matrix.\n",
    "cm_df = pd.DataFrame(\n",
    "    matrix, index=[\"Actual 0\", \"Actual 1\"], columns=[\"Predicted 0\", \"Predicted 1\"])\n",
    "print(\"Confusion Matrix\")\n",
    "print(cm_df)\n",
    "report = classification_report(y_test, y_pred)\n",
    "print(\"Classification report\")\n",
    "print(report)"
   ]
  },
  {
   "cell_type": "markdown",
   "metadata": {},
   "source": [
    "# Combination Sampling"
   ]
  },
  {
   "cell_type": "code",
   "execution_count": 82,
   "metadata": {},
   "outputs": [],
   "source": [
    "from imblearn.combine import SMOTEENN\n",
    "smote_enn = SMOTEENN(random_state=0)\n",
    "X_resampled, y_resampled = smote_enn.fit_resample(X, y)"
   ]
  },
  {
   "cell_type": "code",
   "execution_count": 83,
   "metadata": {},
   "outputs": [
    {
     "name": "stderr",
     "output_type": "stream",
     "text": [
      "/Users/njraman/opt/anaconda3/envs/mlenv/lib/python3.7/site-packages/sklearn/linear_model/_logistic.py:765: ConvergenceWarning: lbfgs failed to converge (status=1):\n",
      "STOP: TOTAL NO. of ITERATIONS REACHED LIMIT.\n",
      "\n",
      "Increase the number of iterations (max_iter) or scale the data as shown in:\n",
      "    https://scikit-learn.org/stable/modules/preprocessing.html\n",
      "Please also refer to the documentation for alternative solver options:\n",
      "    https://scikit-learn.org/stable/modules/linear_model.html#logistic-regression\n",
      "  extra_warning_msg=_LOGISTIC_SOLVER_CONVERGENCE_MSG)\n"
     ]
    }
   ],
   "source": [
    "classifier = LogisticRegression(solver='lbfgs', random_state=1)\n",
    "classifier.fit(X_resampled, y_resampled)\n",
    "y_pred = classifier.predict(X_test_scaled)"
   ]
  },
  {
   "cell_type": "code",
   "execution_count": null,
   "metadata": {},
   "outputs": [],
   "source": []
  }
 ],
 "metadata": {
  "kernelspec": {
   "display_name": "mlenv",
   "language": "python",
   "name": "mlenv"
  },
  "language_info": {
   "codemirror_mode": {
    "name": "ipython",
    "version": 3
   },
   "file_extension": ".py",
   "mimetype": "text/x-python",
   "name": "python",
   "nbconvert_exporter": "python",
   "pygments_lexer": "ipython3",
   "version": "3.7.10"
  }
 },
 "nbformat": 4,
 "nbformat_minor": 4
}
